{
 "cells": [
  {
   "cell_type": "code",
   "execution_count": 2,
   "id": "43614659",
   "metadata": {},
   "outputs": [],
   "source": [
    "# pip install yfinance --quiet"
   ]
  },
  {
   "cell_type": "code",
   "execution_count": 3,
   "id": "4d981671",
   "metadata": {},
   "outputs": [],
   "source": [
    "# https://colab.research.google.com/drive/1M1YJncdswd-A9SgIOAjw6g6Se7NHU9mG?usp=sharing#scrollTo=vfvtuZEvTjA-\n",
    "# https://colab.research.google.com/github/google/tf-quant-finance/blob/master/tf_quant_finance/examples/jupyter_notebooks/Monte_Carlo_Euler_Scheme.ipynb#scrollTo=2nA2FSdTgcEM    \n",
    "# https://colab.research.google.com/github/google/tf-quant-finance/blob/master/tf_quant_finance/examples/jupyter_notebooks/Monte_Carlo_Euler_Scheme.ipynb#scrollTo=2nA2FSdTgcEM    \n",
    "\n",
    "# https://quantlib-python-docs.readthedocs.io/en/latest/pricing_engines.html#analyticeuropeanengine"
   ]
  },
  {
   "cell_type": "code",
   "execution_count": 4,
   "id": "ca82f924",
   "metadata": {
    "scrolled": true
   },
   "outputs": [],
   "source": [
    "import pandas as pd\n",
    "import numpy as np\n",
    "import yfinance as yf\n",
    "import QuantLib as ql"
   ]
  },
  {
   "cell_type": "code",
   "execution_count": 5,
   "id": "9e28e32c",
   "metadata": {},
   "outputs": [
    {
     "name": "stdout",
     "output_type": "stream",
     "text": [
      "[*********************100%%**********************]  1 of 1 completed\n",
      "<class 'pandas.core.frame.DataFrame'>\n",
      "DatetimeIndex: 10788 entries, 1980-12-12 to 2023-09-27\n",
      "Data columns (total 6 columns):\n",
      " #   Column     Non-Null Count  Dtype  \n",
      "---  ------     --------------  -----  \n",
      " 0   Open       10788 non-null  float64\n",
      " 1   High       10788 non-null  float64\n",
      " 2   Low        10788 non-null  float64\n",
      " 3   Close      10788 non-null  float64\n",
      " 4   Adj Close  10788 non-null  float64\n",
      " 5   Volume     10788 non-null  int64  \n",
      "dtypes: float64(5), int64(1)\n",
      "memory usage: 590.0 KB\n",
      "\n",
      "<class 'pandas.core.frame.DataFrame'>\n",
      "DatetimeIndex: 10788 entries, 1980-12-12 to 2023-09-27\n",
      "Data columns (total 6 columns):\n",
      " #   Column     Non-Null Count  Dtype  \n",
      "---  ------     --------------  -----  \n",
      " 0   Open       10788 non-null  float64\n",
      " 1   High       10788 non-null  float64\n",
      " 2   Low        10788 non-null  float64\n",
      " 3   Close      10788 non-null  float64\n",
      " 4   Adj Close  10788 non-null  float64\n",
      " 5   Volume     10788 non-null  int64  \n",
      "dtypes: float64(5), int64(1)\n",
      "memory usage: 590.0 KB\n"
     ]
    }
   ],
   "source": [
    "yf.download('AAPL').info()"
   ]
  },
  {
   "cell_type": "code",
   "execution_count": 6,
   "id": "81e34028",
   "metadata": {},
   "outputs": [
    {
     "data": {
      "text/plain": [
       "Date(31,8,2021)"
      ]
     },
     "execution_count": 6,
     "metadata": {},
     "output_type": "execute_result"
    },
    {
     "data": {
      "text/plain": [
       "Date(31,8,2021)"
      ]
     },
     "execution_count": 6,
     "metadata": {},
     "output_type": "execute_result"
    }
   ],
   "source": [
    "ql.Date(31,ql.August,2021)"
   ]
  },
  {
   "cell_type": "markdown",
   "id": "0d9bc362",
   "metadata": {},
   "source": [
    "# Option Valuation using BlackSholes"
   ]
  },
  {
   "cell_type": "code",
   "execution_count": 30,
   "id": "98e78bc8",
   "metadata": {},
   "outputs": [],
   "source": [
    "start=ql.Date(31,ql.August,2023)\n",
    "end= ql.Date(31,ql.October,2023)"
   ]
  },
  {
   "cell_type": "code",
   "execution_count": 31,
   "id": "da65c48d",
   "metadata": {},
   "outputs": [],
   "source": [
    "stock_price=ql.SimpleQuote(225)\n",
    "stock_price\n",
    "payoff=ql.PlainVanillaPayoff(ql.Option.Call,55)\n",
    "# print(payoff)\n",
    "exercise=ql.EuropeanExercise(end)"
   ]
  },
  {
   "cell_type": "code",
   "execution_count": 9,
   "id": "034cc253",
   "metadata": {
    "collapsed": true
   },
   "outputs": [
    {
     "name": "stdout",
     "output_type": "stream",
     "text": [
      "Help on class EuropeanOption in module QuantLib.QuantLib:\n",
      "\n",
      "class EuropeanOption(VanillaOption)\n",
      " |  EuropeanOption(payoff, exercise)\n",
      " |  \n",
      " |  Method resolution order:\n",
      " |      EuropeanOption\n",
      " |      VanillaOption\n",
      " |      OneAssetOption\n",
      " |      Option\n",
      " |      Instrument\n",
      " |      Observable\n",
      " |      builtins.object\n",
      " |  \n",
      " |  Methods defined here:\n",
      " |  \n",
      " |  __init__(self, payoff, exercise)\n",
      " |      Initialize self.  See help(type(self)) for accurate signature.\n",
      " |  \n",
      " |  __repr__ = _swig_repr(self)\n",
      " |  \n",
      " |  ----------------------------------------------------------------------\n",
      " |  Static methods defined here:\n",
      " |  \n",
      " |  __swig_destroy__ = delete_EuropeanOption(...)\n",
      " |  \n",
      " |  ----------------------------------------------------------------------\n",
      " |  Data descriptors defined here:\n",
      " |  \n",
      " |  thisown\n",
      " |      The membership flag\n",
      " |  \n",
      " |  ----------------------------------------------------------------------\n",
      " |  Methods inherited from VanillaOption:\n",
      " |  \n",
      " |  impliedVolatility(self, targetValue, process, accuracy=0.0001, maxEvaluations=100, minVol=0.0001, maxVol=4.0)\n",
      " |  \n",
      " |  priceCurve(self)\n",
      " |  \n",
      " |  ----------------------------------------------------------------------\n",
      " |  Methods inherited from OneAssetOption:\n",
      " |  \n",
      " |  delta(self)\n",
      " |  \n",
      " |  deltaForward(self)\n",
      " |  \n",
      " |  dividendRho(self)\n",
      " |  \n",
      " |  elasticity(self)\n",
      " |  \n",
      " |  gamma(self)\n",
      " |  \n",
      " |  itmCashProbability(self)\n",
      " |  \n",
      " |  rho(self)\n",
      " |  \n",
      " |  strikeSensitivity(self)\n",
      " |  \n",
      " |  theta(self)\n",
      " |  \n",
      " |  thetaPerDay(self)\n",
      " |  \n",
      " |  vega(self)\n",
      " |  \n",
      " |  ----------------------------------------------------------------------\n",
      " |  Methods inherited from Option:\n",
      " |  \n",
      " |  exercise(self)\n",
      " |  \n",
      " |  payoff(self)\n",
      " |  \n",
      " |  ----------------------------------------------------------------------\n",
      " |  Data and other attributes inherited from Option:\n",
      " |  \n",
      " |  Call = 1\n",
      " |  \n",
      " |  Put = -1\n",
      " |  \n",
      " |  ----------------------------------------------------------------------\n",
      " |  Methods inherited from Instrument:\n",
      " |  \n",
      " |  NPV(self)\n",
      " |  \n",
      " |  errorEstimate(self)\n",
      " |  \n",
      " |  freeze(self)\n",
      " |  \n",
      " |  isExpired(self)\n",
      " |  \n",
      " |  recalculate(self)\n",
      " |  \n",
      " |  setPricingEngine(self, arg2)\n",
      " |  \n",
      " |  unfreeze(self)\n",
      " |  \n",
      " |  ----------------------------------------------------------------------\n",
      " |  Data descriptors inherited from Observable:\n",
      " |  \n",
      " |  __dict__\n",
      " |      dictionary for instance variables (if defined)\n",
      " |  \n",
      " |  __weakref__\n",
      " |      list of weak references to the object (if defined)\n",
      "\n",
      "Help on class EuropeanOption in module QuantLib.QuantLib:\n",
      "\n",
      "class EuropeanOption(VanillaOption)\n",
      " |  EuropeanOption(payoff, exercise)\n",
      " |  \n",
      " |  Method resolution order:\n",
      " |      EuropeanOption\n",
      " |      VanillaOption\n",
      " |      OneAssetOption\n",
      " |      Option\n",
      " |      Instrument\n",
      " |      Observable\n",
      " |      builtins.object\n",
      " |  \n",
      " |  Methods defined here:\n",
      " |  \n",
      " |  __init__(self, payoff, exercise)\n",
      " |      Initialize self.  See help(type(self)) for accurate signature.\n",
      " |  \n",
      " |  __repr__ = _swig_repr(self)\n",
      " |  \n",
      " |  ----------------------------------------------------------------------\n",
      " |  Static methods defined here:\n",
      " |  \n",
      " |  __swig_destroy__ = delete_EuropeanOption(...)\n",
      " |  \n",
      " |  ----------------------------------------------------------------------\n",
      " |  Data descriptors defined here:\n",
      " |  \n",
      " |  thisown\n",
      " |      The membership flag\n",
      " |  \n",
      " |  ----------------------------------------------------------------------\n",
      " |  Methods inherited from VanillaOption:\n",
      " |  \n",
      " |  impliedVolatility(self, targetValue, process, accuracy=0.0001, maxEvaluations=100, minVol=0.0001, maxVol=4.0)\n",
      " |  \n",
      " |  priceCurve(self)\n",
      " |  \n",
      " |  ----------------------------------------------------------------------\n",
      " |  Methods inherited from OneAssetOption:\n",
      " |  \n",
      " |  delta(self)\n",
      " |  \n",
      " |  deltaForward(self)\n",
      " |  \n",
      " |  dividendRho(self)\n",
      " |  \n",
      " |  elasticity(self)\n",
      " |  \n",
      " |  gamma(self)\n",
      " |  \n",
      " |  itmCashProbability(self)\n",
      " |  \n",
      " |  rho(self)\n",
      " |  \n",
      " |  strikeSensitivity(self)\n",
      " |  \n",
      " |  theta(self)\n",
      " |  \n",
      " |  thetaPerDay(self)\n",
      " |  \n",
      " |  vega(self)\n",
      " |  \n",
      " |  ----------------------------------------------------------------------\n",
      " |  Methods inherited from Option:\n",
      " |  \n",
      " |  exercise(self)\n",
      " |  \n",
      " |  payoff(self)\n",
      " |  \n",
      " |  ----------------------------------------------------------------------\n",
      " |  Data and other attributes inherited from Option:\n",
      " |  \n",
      " |  Call = 1\n",
      " |  \n",
      " |  Put = -1\n",
      " |  \n",
      " |  ----------------------------------------------------------------------\n",
      " |  Methods inherited from Instrument:\n",
      " |  \n",
      " |  NPV(self)\n",
      " |  \n",
      " |  errorEstimate(self)\n",
      " |  \n",
      " |  freeze(self)\n",
      " |  \n",
      " |  isExpired(self)\n",
      " |  \n",
      " |  recalculate(self)\n",
      " |  \n",
      " |  setPricingEngine(self, arg2)\n",
      " |  \n",
      " |  unfreeze(self)\n",
      " |  \n",
      " |  ----------------------------------------------------------------------\n",
      " |  Data descriptors inherited from Observable:\n",
      " |  \n",
      " |  __dict__\n",
      " |      dictionary for instance variables (if defined)\n",
      " |  \n",
      " |  __weakref__\n",
      " |      list of weak references to the object (if defined)\n",
      "\n"
     ]
    }
   ],
   "source": [
    "help(ql.EuropeanOption)"
   ]
  },
  {
   "cell_type": "code",
   "execution_count": 32,
   "id": "868f0c75",
   "metadata": {},
   "outputs": [],
   "source": [
    "rf=0.59\n",
    "day_count=ql.Actual360()\n",
    "european_option=ql.VanillaOption(payoff,exercise)"
   ]
  },
  {
   "cell_type": "code",
   "execution_count": 33,
   "id": "239dc7ba",
   "metadata": {},
   "outputs": [],
   "source": [
    "spot_curve=stock_price\n",
    "term_structure=ql.FlatForward(start,0.0,day_count)\n",
    "dividend_yield=ql.FlatForward(start,rf,day_count)\n",
    "volitility_term_strucutre=ql.BlackConstantVol(start,ql.TARGET(),0.345,day_count)"
   ]
  },
  {
   "cell_type": "code",
   "execution_count": 34,
   "id": "b5d3d006",
   "metadata": {},
   "outputs": [],
   "source": [
    "process=ql.BlackScholesMertonProcess(s0=ql.QuoteHandle(spot_curve),\n",
    "                             riskFreeTS= ql.YieldTermStructureHandle(term_structure),\n",
    "                             volTS=ql.BlackVolTermStructureHandle(volitility_term_strucutre),\n",
    "                             dividendTS=ql.YieldTermStructureHandle(dividend_yield),)"
   ]
  },
  {
   "cell_type": "code",
   "execution_count": 35,
   "id": "78b9095f",
   "metadata": {},
   "outputs": [],
   "source": [
    "# engine=ql.AnalyticEuropeanEngine(process)\n",
    "european_option.setPricingEngine(ql.AnalyticEuropeanEngine(process))"
   ]
  },
  {
   "cell_type": "code",
   "execution_count": 14,
   "id": "61d16d43",
   "metadata": {},
   "outputs": [],
   "source": [
    "# #payoff present value\n",
    "# european_option.NPV() \n",
    "# #option_greeks\n",
    "# european_option.delta()\n",
    "# european_option.gamma()\n",
    "# european_option.vega()\n",
    "# european_option.theta()\n",
    "# european_option.rho()"
   ]
  },
  {
   "cell_type": "code",
   "execution_count": 36,
   "id": "f285902d",
   "metadata": {},
   "outputs": [
    {
     "data": {
      "text/plain": [
       "120.12050387859432"
      ]
     },
     "execution_count": 36,
     "metadata": {},
     "output_type": "execute_result"
    },
    {
     "data": {
      "text/plain": [
       "120.12050387859432"
      ]
     },
     "execution_count": 36,
     "metadata": {},
     "output_type": "execute_result"
    }
   ],
   "source": [
    "european_option.theta()"
   ]
  },
  {
   "cell_type": "code",
   "execution_count": 37,
   "id": "b1e8f625",
   "metadata": {},
   "outputs": [
    {
     "data": {
      "text/plain": [
       "9.319444444444445"
      ]
     },
     "execution_count": 37,
     "metadata": {},
     "output_type": "execute_result"
    },
    {
     "data": {
      "text/plain": [
       "9.319444444444445"
      ]
     },
     "execution_count": 37,
     "metadata": {},
     "output_type": "execute_result"
    }
   ],
   "source": [
    "european_option.rho()"
   ]
  },
  {
   "cell_type": "code",
   "execution_count": 39,
   "id": "7f1e70b1",
   "metadata": {},
   "outputs": [
    {
     "data": {
      "text/plain": [
       "6.249892852327995e-18"
      ]
     },
     "execution_count": 39,
     "metadata": {},
     "output_type": "execute_result"
    },
    {
     "data": {
      "text/plain": [
       "6.249892852327995e-18"
      ]
     },
     "execution_count": 39,
     "metadata": {},
     "output_type": "execute_result"
    }
   ],
   "source": [
    "european_option.vega()"
   ]
  },
  {
   "cell_type": "code",
   "execution_count": 18,
   "id": "94da68de",
   "metadata": {},
   "outputs": [
    {
     "data": {
      "text/plain": [
       "2.111840461175757e-21"
      ]
     },
     "execution_count": 18,
     "metadata": {},
     "output_type": "execute_result"
    },
    {
     "data": {
      "text/plain": [
       "2.111840461175757e-21"
      ]
     },
     "execution_count": 18,
     "metadata": {},
     "output_type": "execute_result"
    }
   ],
   "source": [
    "european_option.gamma()"
   ]
  },
  {
   "cell_type": "code",
   "execution_count": 40,
   "id": "3b235547",
   "metadata": {},
   "outputs": [
    {
     "data": {
      "text/plain": [
       "0.9048625527577746"
      ]
     },
     "execution_count": 40,
     "metadata": {},
     "output_type": "execute_result"
    },
    {
     "data": {
      "text/plain": [
       "0.9048625527577746"
      ]
     },
     "execution_count": 40,
     "metadata": {},
     "output_type": "execute_result"
    }
   ],
   "source": [
    "european_option.delta()"
   ]
  },
  {
   "cell_type": "code",
   "execution_count": 41,
   "id": "86891671",
   "metadata": {},
   "outputs": [
    {
     "data": {
      "text/plain": [
       "148.59407437049927"
      ]
     },
     "execution_count": 41,
     "metadata": {},
     "output_type": "execute_result"
    },
    {
     "data": {
      "text/plain": [
       "148.59407437049927"
      ]
     },
     "execution_count": 41,
     "metadata": {},
     "output_type": "execute_result"
    }
   ],
   "source": [
    "european_option.NPV()"
   ]
  },
  {
   "cell_type": "code",
   "execution_count": 42,
   "id": "5d96d356",
   "metadata": {},
   "outputs": [
    {
     "data": {
      "text/plain": [
       "148.59407437049927"
      ]
     },
     "execution_count": 42,
     "metadata": {},
     "output_type": "execute_result"
    },
    {
     "data": {
      "text/plain": [
       "148.59407437049927"
      ]
     },
     "execution_count": 42,
     "metadata": {},
     "output_type": "execute_result"
    }
   ],
   "source": [
    "european_option.NPV()"
   ]
  },
  {
   "cell_type": "code",
   "execution_count": 22,
   "id": "cbdd8f5f",
   "metadata": {},
   "outputs": [],
   "source": [
    "stock_price.setValue(200)"
   ]
  },
  {
   "cell_type": "code",
   "execution_count": 43,
   "id": "d88764eb",
   "metadata": {},
   "outputs": [
    {
     "data": {
      "text/plain": [
       "148.59407437049927"
      ]
     },
     "execution_count": 43,
     "metadata": {},
     "output_type": "execute_result"
    },
    {
     "data": {
      "text/plain": [
       "148.59407437049927"
      ]
     },
     "execution_count": 43,
     "metadata": {},
     "output_type": "execute_result"
    }
   ],
   "source": [
    "european_option.NPV()"
   ]
  },
  {
   "cell_type": "code",
   "execution_count": 49,
   "id": "ce7fe4c1",
   "metadata": {},
   "outputs": [
    {
     "ename": "TypeError",
     "evalue": "Wrong number or type of arguments for overloaded function 'VanillaOption_impliedVolatility'.\n  Possible C/C++ prototypes are:\n    VanillaOption::impliedVolatility(Real,ext::shared_ptr< GeneralizedBlackScholesProcess > const &,Real,Size,Volatility,Volatility)\n    VanillaOption::impliedVolatility(Real,ext::shared_ptr< GeneralizedBlackScholesProcess > const &,Real,Size,Volatility)\n    VanillaOption::impliedVolatility(Real,ext::shared_ptr< GeneralizedBlackScholesProcess > const &,Real,Size)\n    VanillaOption::impliedVolatility(Real,ext::shared_ptr< GeneralizedBlackScholesProcess > const &,Real)\n    VanillaOption::impliedVolatility(Real,ext::shared_ptr< GeneralizedBlackScholesProcess > const &)\n",
     "output_type": "error",
     "traceback": [
      "\u001b[1;31m---------------------------------------------------------------------------\u001b[0m",
      "\u001b[1;31mTypeError\u001b[0m                                 Traceback (most recent call last)",
      "\u001b[1;32mC:\\Users\\AJITYA~1\\AppData\\Local\\Temp/ipykernel_9136/353661684.py\u001b[0m in \u001b[0;36m<module>\u001b[1;34m\u001b[0m\n\u001b[1;32m----> 1\u001b[1;33m \u001b[0meuropean_option\u001b[0m\u001b[1;33m.\u001b[0m\u001b[0mimpliedVolatility\u001b[0m\u001b[1;33m(\u001b[0m\u001b[0mprocess\u001b[0m\u001b[1;33m=\u001b[0m\u001b[0mprocess\u001b[0m\u001b[1;33m,\u001b[0m\u001b[0mtargetValue\u001b[0m\u001b[1;33m=\u001b[0m\u001b[0mstock_price\u001b[0m\u001b[1;33m)\u001b[0m\u001b[1;33m\u001b[0m\u001b[1;33m\u001b[0m\u001b[0m\n\u001b[0m",
      "\u001b[1;32mc:\\users\\ajit yadav\\appdata\\local\\programs\\python\\python38\\lib\\site-packages\\QuantLib\\QuantLib.py\u001b[0m in \u001b[0;36mimpliedVolatility\u001b[1;34m(self, targetValue, process, accuracy, maxEvaluations, minVol, maxVol)\u001b[0m\n\u001b[0;32m  11796\u001b[0m \u001b[1;33m\u001b[0m\u001b[0m\n\u001b[0;32m  11797\u001b[0m     \u001b[1;32mdef\u001b[0m \u001b[0mimpliedVolatility\u001b[0m\u001b[1;33m(\u001b[0m\u001b[0mself\u001b[0m\u001b[1;33m,\u001b[0m \u001b[0mtargetValue\u001b[0m\u001b[1;33m,\u001b[0m \u001b[0mprocess\u001b[0m\u001b[1;33m,\u001b[0m \u001b[0maccuracy\u001b[0m\u001b[1;33m=\u001b[0m\u001b[1;36m1.0e-4\u001b[0m\u001b[1;33m,\u001b[0m \u001b[0mmaxEvaluations\u001b[0m\u001b[1;33m=\u001b[0m\u001b[1;36m100\u001b[0m\u001b[1;33m,\u001b[0m \u001b[0mminVol\u001b[0m\u001b[1;33m=\u001b[0m\u001b[1;36m1.0e-4\u001b[0m\u001b[1;33m,\u001b[0m \u001b[0mmaxVol\u001b[0m\u001b[1;33m=\u001b[0m\u001b[1;36m4.0\u001b[0m\u001b[1;33m)\u001b[0m\u001b[1;33m:\u001b[0m\u001b[1;33m\u001b[0m\u001b[1;33m\u001b[0m\u001b[0m\n\u001b[1;32m> 11798\u001b[1;33m         \u001b[1;32mreturn\u001b[0m \u001b[0m_QuantLib\u001b[0m\u001b[1;33m.\u001b[0m\u001b[0mVanillaOption_impliedVolatility\u001b[0m\u001b[1;33m(\u001b[0m\u001b[0mself\u001b[0m\u001b[1;33m,\u001b[0m \u001b[0mtargetValue\u001b[0m\u001b[1;33m,\u001b[0m \u001b[0mprocess\u001b[0m\u001b[1;33m,\u001b[0m \u001b[0maccuracy\u001b[0m\u001b[1;33m,\u001b[0m \u001b[0mmaxEvaluations\u001b[0m\u001b[1;33m,\u001b[0m \u001b[0mminVol\u001b[0m\u001b[1;33m,\u001b[0m \u001b[0mmaxVol\u001b[0m\u001b[1;33m)\u001b[0m\u001b[1;33m\u001b[0m\u001b[1;33m\u001b[0m\u001b[0m\n\u001b[0m\u001b[0;32m  11799\u001b[0m \u001b[1;33m\u001b[0m\u001b[0m\n\u001b[0;32m  11800\u001b[0m     \u001b[1;32mdef\u001b[0m \u001b[0mpriceCurve\u001b[0m\u001b[1;33m(\u001b[0m\u001b[0mself\u001b[0m\u001b[1;33m)\u001b[0m\u001b[1;33m:\u001b[0m\u001b[1;33m\u001b[0m\u001b[1;33m\u001b[0m\u001b[0m\n",
      "\u001b[1;31mTypeError\u001b[0m: Wrong number or type of arguments for overloaded function 'VanillaOption_impliedVolatility'.\n  Possible C/C++ prototypes are:\n    VanillaOption::impliedVolatility(Real,ext::shared_ptr< GeneralizedBlackScholesProcess > const &,Real,Size,Volatility,Volatility)\n    VanillaOption::impliedVolatility(Real,ext::shared_ptr< GeneralizedBlackScholesProcess > const &,Real,Size,Volatility)\n    VanillaOption::impliedVolatility(Real,ext::shared_ptr< GeneralizedBlackScholesProcess > const &,Real,Size)\n    VanillaOption::impliedVolatility(Real,ext::shared_ptr< GeneralizedBlackScholesProcess > const &,Real)\n    VanillaOption::impliedVolatility(Real,ext::shared_ptr< GeneralizedBlackScholesProcess > const &)\n"
     ]
    },
    {
     "ename": "TypeError",
     "evalue": "Wrong number or type of arguments for overloaded function 'VanillaOption_impliedVolatility'.\n  Possible C/C++ prototypes are:\n    VanillaOption::impliedVolatility(Real,ext::shared_ptr< GeneralizedBlackScholesProcess > const &,Real,Size,Volatility,Volatility)\n    VanillaOption::impliedVolatility(Real,ext::shared_ptr< GeneralizedBlackScholesProcess > const &,Real,Size,Volatility)\n    VanillaOption::impliedVolatility(Real,ext::shared_ptr< GeneralizedBlackScholesProcess > const &,Real,Size)\n    VanillaOption::impliedVolatility(Real,ext::shared_ptr< GeneralizedBlackScholesProcess > const &,Real)\n    VanillaOption::impliedVolatility(Real,ext::shared_ptr< GeneralizedBlackScholesProcess > const &)\n",
     "output_type": "error",
     "traceback": [
      "\u001b[1;31m---------------------------------------------------------------------------\u001b[0m",
      "\u001b[1;31mTypeError\u001b[0m                                 Traceback (most recent call last)",
      "\u001b[1;32mC:\\Users\\AJITYA~1\\AppData\\Local\\Temp/ipykernel_9136/353661684.py\u001b[0m in \u001b[0;36m<module>\u001b[1;34m\u001b[0m\n\u001b[1;32m----> 1\u001b[1;33m \u001b[0meuropean_option\u001b[0m\u001b[1;33m.\u001b[0m\u001b[0mimpliedVolatility\u001b[0m\u001b[1;33m(\u001b[0m\u001b[0mprocess\u001b[0m\u001b[1;33m=\u001b[0m\u001b[0mprocess\u001b[0m\u001b[1;33m,\u001b[0m\u001b[0mtargetValue\u001b[0m\u001b[1;33m=\u001b[0m\u001b[0mstock_price\u001b[0m\u001b[1;33m)\u001b[0m\u001b[1;33m\u001b[0m\u001b[1;33m\u001b[0m\u001b[0m\n\u001b[0m",
      "\u001b[1;32mc:\\users\\ajit yadav\\appdata\\local\\programs\\python\\python38\\lib\\site-packages\\QuantLib\\QuantLib.py\u001b[0m in \u001b[0;36mimpliedVolatility\u001b[1;34m(self, targetValue, process, accuracy, maxEvaluations, minVol, maxVol)\u001b[0m\n\u001b[0;32m  11796\u001b[0m \u001b[1;33m\u001b[0m\u001b[0m\n\u001b[0;32m  11797\u001b[0m     \u001b[1;32mdef\u001b[0m \u001b[0mimpliedVolatility\u001b[0m\u001b[1;33m(\u001b[0m\u001b[0mself\u001b[0m\u001b[1;33m,\u001b[0m \u001b[0mtargetValue\u001b[0m\u001b[1;33m,\u001b[0m \u001b[0mprocess\u001b[0m\u001b[1;33m,\u001b[0m \u001b[0maccuracy\u001b[0m\u001b[1;33m=\u001b[0m\u001b[1;36m1.0e-4\u001b[0m\u001b[1;33m,\u001b[0m \u001b[0mmaxEvaluations\u001b[0m\u001b[1;33m=\u001b[0m\u001b[1;36m100\u001b[0m\u001b[1;33m,\u001b[0m \u001b[0mminVol\u001b[0m\u001b[1;33m=\u001b[0m\u001b[1;36m1.0e-4\u001b[0m\u001b[1;33m,\u001b[0m \u001b[0mmaxVol\u001b[0m\u001b[1;33m=\u001b[0m\u001b[1;36m4.0\u001b[0m\u001b[1;33m)\u001b[0m\u001b[1;33m:\u001b[0m\u001b[1;33m\u001b[0m\u001b[1;33m\u001b[0m\u001b[0m\n\u001b[1;32m> 11798\u001b[1;33m         \u001b[1;32mreturn\u001b[0m \u001b[0m_QuantLib\u001b[0m\u001b[1;33m.\u001b[0m\u001b[0mVanillaOption_impliedVolatility\u001b[0m\u001b[1;33m(\u001b[0m\u001b[0mself\u001b[0m\u001b[1;33m,\u001b[0m \u001b[0mtargetValue\u001b[0m\u001b[1;33m,\u001b[0m \u001b[0mprocess\u001b[0m\u001b[1;33m,\u001b[0m \u001b[0maccuracy\u001b[0m\u001b[1;33m,\u001b[0m \u001b[0mmaxEvaluations\u001b[0m\u001b[1;33m,\u001b[0m \u001b[0mminVol\u001b[0m\u001b[1;33m,\u001b[0m \u001b[0mmaxVol\u001b[0m\u001b[1;33m)\u001b[0m\u001b[1;33m\u001b[0m\u001b[1;33m\u001b[0m\u001b[0m\n\u001b[0m\u001b[0;32m  11799\u001b[0m \u001b[1;33m\u001b[0m\u001b[0m\n\u001b[0;32m  11800\u001b[0m     \u001b[1;32mdef\u001b[0m \u001b[0mpriceCurve\u001b[0m\u001b[1;33m(\u001b[0m\u001b[0mself\u001b[0m\u001b[1;33m)\u001b[0m\u001b[1;33m:\u001b[0m\u001b[1;33m\u001b[0m\u001b[1;33m\u001b[0m\u001b[0m\n",
      "\u001b[1;31mTypeError\u001b[0m: Wrong number or type of arguments for overloaded function 'VanillaOption_impliedVolatility'.\n  Possible C/C++ prototypes are:\n    VanillaOption::impliedVolatility(Real,ext::shared_ptr< GeneralizedBlackScholesProcess > const &,Real,Size,Volatility,Volatility)\n    VanillaOption::impliedVolatility(Real,ext::shared_ptr< GeneralizedBlackScholesProcess > const &,Real,Size,Volatility)\n    VanillaOption::impliedVolatility(Real,ext::shared_ptr< GeneralizedBlackScholesProcess > const &,Real,Size)\n    VanillaOption::impliedVolatility(Real,ext::shared_ptr< GeneralizedBlackScholesProcess > const &,Real)\n    VanillaOption::impliedVolatility(Real,ext::shared_ptr< GeneralizedBlackScholesProcess > const &)\n"
     ]
    }
   ],
   "source": [
    "european_option.impliedVolatility(process=process,targetValue=stock_price)"
   ]
  },
  {
   "cell_type": "code",
   "execution_count": 24,
   "id": "120be335",
   "metadata": {},
   "outputs": [
    {
     "name": "stdout",
     "output_type": "stream",
     "text": [
      "Help on function BinomialVanillaEngine in module QuantLib.QuantLib:\n",
      "\n",
      "BinomialVanillaEngine(process, type, steps)\n",
      "\n",
      "Help on function BinomialVanillaEngine in module QuantLib.QuantLib:\n",
      "\n",
      "BinomialVanillaEngine(process, type, steps)\n",
      "\n"
     ]
    }
   ],
   "source": [
    "# help(ql.BlackScholesMertonProcess)\n",
    "help(ql.BinomialVanillaEngine)"
   ]
  },
  {
   "cell_type": "code",
   "execution_count": 25,
   "id": "06babe01",
   "metadata": {},
   "outputs": [],
   "source": [
    "binom=ql.BinomialVanillaEngine(type = \"coxrossrubinstein\",process=process,steps=200,)"
   ]
  },
  {
   "cell_type": "code",
   "execution_count": null,
   "id": "25512e8c",
   "metadata": {},
   "outputs": [],
   "source": []
  },
  {
   "cell_type": "code",
   "execution_count": 26,
   "id": "895a9eb5",
   "metadata": {},
   "outputs": [
    {
     "data": {
      "text/plain": [
       "<QuantLib.QuantLib.BinomialCRRVanillaEngine; proxy of <Swig Object of type 'ext::shared_ptr< BinomialVanillaEngine< CoxRossRubinstein > > *' at 0x000002A655338C90> >"
      ]
     },
     "execution_count": 26,
     "metadata": {},
     "output_type": "execute_result"
    },
    {
     "data": {
      "text/plain": [
       "<QuantLib.QuantLib.BinomialCRRVanillaEngine; proxy of <Swig Object of type 'ext::shared_ptr< BinomialVanillaEngine< CoxRossRubinstein > > *' at 0x000002A655338C90> >"
      ]
     },
     "execution_count": 26,
     "metadata": {},
     "output_type": "execute_result"
    }
   ],
   "source": [
    "ql.BinomialCRRVanillaEngine(process,steps=200,)"
   ]
  },
  {
   "cell_type": "code",
   "execution_count": 27,
   "id": "a177513c",
   "metadata": {},
   "outputs": [],
   "source": [
    "european_option.setPricingEngine(binom)\n",
    "price=european_option.NPV()"
   ]
  },
  {
   "cell_type": "code",
   "execution_count": 28,
   "id": "cdce7c5e",
   "metadata": {},
   "outputs": [
    {
     "data": {
      "text/plain": [
       "125.9676677404462"
      ]
     },
     "execution_count": 28,
     "metadata": {},
     "output_type": "execute_result"
    },
    {
     "data": {
      "text/plain": [
       "125.9676677404462"
      ]
     },
     "execution_count": 28,
     "metadata": {},
     "output_type": "execute_result"
    }
   ],
   "source": [
    "price"
   ]
  },
  {
   "cell_type": "code",
   "execution_count": 29,
   "id": "e2da442f",
   "metadata": {},
   "outputs": [],
   "source": [
    "# help(ql.YieldTermStructure)"
   ]
  }
 ],
 "metadata": {
  "kernelspec": {
   "display_name": "Python 3 (ipykernel)",
   "language": "python",
   "name": "python3"
  },
  "language_info": {
   "codemirror_mode": {
    "name": "ipython",
    "version": 3
   },
   "file_extension": ".py",
   "mimetype": "text/x-python",
   "name": "python",
   "nbconvert_exporter": "python",
   "pygments_lexer": "ipython3",
   "version": "3.8.8"
  }
 },
 "nbformat": 4,
 "nbformat_minor": 5
}
