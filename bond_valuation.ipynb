{
 "cells": [
  {
   "cell_type": "markdown",
   "id": "33d5f9f0",
   "metadata": {},
   "source": [
    "# Bond Valuations"
   ]
  },
  {
   "cell_type": "code",
   "execution_count": 1,
   "id": "e69905b0",
   "metadata": {},
   "outputs": [],
   "source": [
    "import pandas as pd\n",
    "import numpy as np\n",
    "import QuantLib as ql"
   ]
  },
  {
   "cell_type": "markdown",
   "id": "0e6fdc35",
   "metadata": {},
   "source": [
    "INTEREST RATE CONVERSIONS"
   ]
  },
  {
   "cell_type": "code",
   "execution_count": 17,
   "id": "8f84e1d2",
   "metadata": {},
   "outputs": [],
   "source": [
    "annual_rate=0.05\n",
    "day_count=ql.Actual365Fixed()\n",
    "compounding_type=ql.Annual\n",
    "frequency=ql.Annual\n",
    "interest_rate=ql.InterestRate(annual_rate,day_count,compounding_type,frequency)"
   ]
  },
  {
   "cell_type": "code",
   "execution_count": 32,
   "id": "23eac043",
   "metadata": {},
   "outputs": [],
   "source": [
    "# print(\"Rate: \", rate.rate())\n",
    "# print(\"DayCount: \", rate.dayCounter())\n",
    "# print(\"DiscountFactor: \", rate.discountFactor(1))\n",
    "# print(\"DiscountFactor: \", rate.discountFactor(ql.Date(15,6,2020), ql.Date(15,6,2021)))\n",
    "# print(\"CompoundFactor: \", rate.compoundFactor(ql.Date(15,6,2020), ql.Date(15,6,2021)))\n",
    "# print(\"EquivalentRate: \", rate.equivalentRate(ql.Actual360(), ql.Compounded, ql.Semiannual, ql.Date(15,6,2020), ql.Date(15,6,2021)))\n",
    "# factor = rate.compoundFactor(ql.Date(15,6,2020), ql.Date(15,6,2021))\n",
    "# print(\"ImpliedRate: \", rate.impliedRate(factor, ql.Actual360(), ql.Continuous, ql.Annual, ql.Date(15,6,2020), ql.Date(15,6,2021)))"
   ]
  },
  {
   "cell_type": "code",
   "execution_count": 31,
   "id": "c85aa800",
   "metadata": {},
   "outputs": [
    {
     "name": "stdout",
     "output_type": "stream",
     "text": [
      "1.1576250000000001\n"
     ]
    }
   ],
   "source": [
    "#compounded for 3 years time period\n",
    "print(interest_rate.compoundFactor(3))"
   ]
  },
  {
   "cell_type": "code",
   "execution_count": 38,
   "id": "646c8f1f",
   "metadata": {},
   "outputs": [
    {
     "name": "stdout",
     "output_type": "stream",
     "text": [
      "Actual/365 (Fixed) day counter\n"
     ]
    }
   ],
   "source": [
    "print(interest_rate.dayCounter())"
   ]
  },
  {
   "cell_type": "code",
   "execution_count": 29,
   "id": "bbdc15b6",
   "metadata": {},
   "outputs": [
    {
     "name": "stdout",
     "output_type": "stream",
     "text": [
      "0.9523809523809523\n"
     ]
    }
   ],
   "source": [
    "#compounded back from 3 years time period to now\n",
    "print(interest_rate.discountFactor(1))"
   ]
  },
  {
   "cell_type": "code",
   "execution_count": 26,
   "id": "1d7fbf88",
   "metadata": {},
   "outputs": [
    {
     "name": "stdout",
     "output_type": "stream",
     "text": [
      "4.879016 % Actual/365 (Fixed) continuous compounding\n"
     ]
    }
   ],
   "source": [
    "print(interest_rate.equivalentRate(ql.Semiannual,frequency,1))"
   ]
  },
  {
   "cell_type": "markdown",
   "id": "576a300f",
   "metadata": {},
   "source": [
    "BOND DATA"
   ]
  },
  {
   "cell_type": "code",
   "execution_count": null,
   "id": "4a758504",
   "metadata": {},
   "outputs": [],
   "source": [
    "# The class ql.Calendar provides the interface for determining whether a date is a business day\n",
    "# or a holiday for a given exchange or a given country, and for incrementing/decrementing a date of\n",
    "# a given number of business days.\n",
    "# Calendar Markets\n",
    "## TARGET FOR EURO ZONE\n",
    "# Argentina : [‘Merval’]\n",
    "# Brazil : [‘Exchange’, ‘Settlement’]\n",
    "# Canada : [‘Settlement’, ‘TSX’]\n",
    "# China : [‘IB’, ‘SSE’]\n",
    "# CzechRepublic : [‘PSE’]\n",
    "# France : [‘Exchange’, ‘Settlement’]\n",
    "# Germany : [‘Eurex’, ‘FrankfurtStockExchange’, ‘Settlement’, ‘Xetra’]\n",
    "# HongKong : [‘HKEx’]\n",
    "# Iceland : [‘ICEX’]\n",
    "        # India : [‘NSE’]\n",
    "# Indonesia : [‘BEJ’, ‘JSX’]\n",
    "# Israel : [‘Settlement’, ‘TASE’]\n",
    "# Italy : [‘Exchange’, ‘Settlement’]\n",
    "# Mexico : [‘BMV’]\n",
    "# Russia : [‘MOEX’, ‘Settlement’]\n",
    "# SaudiArabia : [‘Tadawul’]\n",
    "# Singapore : [‘SGX’]\n",
    "# Slovakia : [‘BSSE’]\n",
    "# SouthKorea : [‘KRX’, ‘Settlement’]\n",
    "# Taiwan : [‘TSEC’]\n",
    "# Ukraine : [‘USE’]\n",
    "# UnitedKingdom : [‘Exchange’, ‘Metals’, ‘Settlement’]\n",
    "# UnitedStates : [‘FederalReserve’, ‘GovernmentBond’, ‘LiborImpact’, ‘NERC’, ‘NYSE’, ‘Settlement’]"
   ]
  },
  {
   "cell_type": "code",
   "execution_count": 224,
   "id": "296dcf0c",
   "metadata": {},
   "outputs": [],
   "source": [
    "coupon=[0.05]\n",
    "rate=[0.0,0.2,0.5]\n",
    "date=[ql.Date(1,ql.January,2023),ql.Date(1,ql.June,2023),ql.Date(1,ql.December,2023),]  #spot curve dates\n",
    "daycounter=ql.Actual364()\n",
    "interpolation=ql.Linear() #making the spot curve continous\n",
    "frequency= ql.Semiannual #compounding freq\n",
    "Compounding=ql.Compounded\n",
    "calendar= ql.NullCalendar() #ql.India(ql.India.NSE)#country of interest\n",
    "# print(compounding)"
   ]
  },
  {
   "cell_type": "code",
   "execution_count": 165,
   "id": "2936dd9b",
   "metadata": {},
   "outputs": [
    {
     "data": {
      "text/plain": [
       "Date(1,1,2023)"
      ]
     },
     "execution_count": 165,
     "metadata": {},
     "output_type": "execute_result"
    }
   ],
   "source": []
  },
  {
   "cell_type": "code",
   "execution_count": null,
   "id": "ab35d838",
   "metadata": {},
   "outputs": [],
   "source": []
  },
  {
   "cell_type": "code",
   "execution_count": 176,
   "id": "14afbcd6",
   "metadata": {},
   "outputs": [
    {
     "name": "stdout",
     "output_type": "stream",
     "text": [
      "(Date(26,1,2022), Date(14,4,2022), Date(15,4,2022), Date(15,8,2022), Date(26,1,2023))\n"
     ]
    }
   ],
   "source": [
    "print(ql.Calendar.holidayList(ql.India(), ql.Date(1,12,2021), ql.Date(31,1,2023), includeWeekEnds=False))"
   ]
  },
  {
   "cell_type": "markdown",
   "id": "9f0e3514",
   "metadata": {},
   "source": [
    "Term Structure Creation"
   ]
  },
  {
   "cell_type": "code",
   "execution_count": 228,
   "id": "7a4a229e",
   "metadata": {},
   "outputs": [
    {
     "name": "stdout",
     "output_type": "stream",
     "text": [
      "<QuantLib.QuantLib.ZeroCurve; proxy of <Swig Object of type 'ext::shared_ptr< InterpolatedZeroCurve< Linear > > *' at 0x000001C64C61B330> >\n"
     ]
    }
   ],
   "source": [
    "# dates, yields, dayCounter, cal, i, comp, freq)\n",
    "spot_curve=ql.ZeroCurve(date,rate,daycounter,calendar,) #,Compounding,Frequency\n",
    "print(spot_curve)"
   ]
  },
  {
   "cell_type": "code",
   "execution_count": 229,
   "id": "179a2315",
   "metadata": {},
   "outputs": [
    {
     "name": "stdout",
     "output_type": "stream",
     "text": [
      "<QuantLib.QuantLib.YieldTermStructureHandle; proxy of <Swig Object of type 'Handle< YieldTermStructure > *' at 0x000001C64C61BB70> >\n"
     ]
    }
   ],
   "source": [
    "spot_curve_handle=ql.YieldTermStructureHandle(spot_curve)\n",
    "print(spot_curve_handle)"
   ]
  },
  {
   "cell_type": "code",
   "execution_count": 231,
   "id": "e5602c1f",
   "metadata": {},
   "outputs": [],
   "source": [
    "effectiveDate = date[0]\n",
    "terminationDate = date[2]\n",
    "frequency = ql.Period(ql.Annual) #ql.Period('1y')\n",
    "calendar = calendar\n",
    "convention = ql.ModifiedFollowing\n",
    "terminationDateConvention = ql.ModifiedFollowing\n",
    "rule = ql.DateGeneration.Backward\n",
    "endOfMonth = False\n",
    "schedule = ql.Schedule(effectiveDate, terminationDate, frequency, calendar, convention, terminationDateConvention, rule, endOfMonth)"
   ]
  },
  {
   "cell_type": "markdown",
   "id": "cae95fff",
   "metadata": {},
   "source": [
    "Schedule Generation"
   ]
  },
  {
   "cell_type": "code",
   "execution_count": 232,
   "id": "56aa35c2",
   "metadata": {},
   "outputs": [
    {
     "name": "stdout",
     "output_type": "stream",
     "text": [
      "<QuantLib.QuantLib.Schedule; proxy of <Swig Object of type 'Schedule *' at 0x000001C64C61B660> >\n"
     ]
    }
   ],
   "source": [
    "print(schedule)"
   ]
  },
  {
   "cell_type": "code",
   "execution_count": 241,
   "id": "4785bf5e",
   "metadata": {},
   "outputs": [],
   "source": [
    "fixed_rate_bond=ql.FixedRateBond(0,1000,schedule,coupon,daycounter)\n",
    "# (settlementDays, calendar, faceAmount, startDate, maturityDate, tenor, coupon, paymentConvention)"
   ]
  },
  {
   "cell_type": "markdown",
   "id": "d3bbbec8",
   "metadata": {},
   "source": [
    "Building Up The Bond engine"
   ]
  },
  {
   "cell_type": "code",
   "execution_count": 244,
   "id": "a58addb7",
   "metadata": {},
   "outputs": [
    {
     "name": "stdout",
     "output_type": "stream",
     "text": [
      "Wall time: 0 ns\n"
     ]
    }
   ],
   "source": [
    "%%time\n",
    "# %%timeit\n",
    "# https://linuxhint.com/timeit-jupyter-notebook/\n",
    "bond_engine=ql.DiscountingBondEngine(spot_curve_handle)\n",
    "fixed_rate_bond.setPricingEngine(bond_engine)"
   ]
  },
  {
   "cell_type": "code",
   "execution_count": 257,
   "id": "bd0e26cb",
   "metadata": {},
   "outputs": [
    {
     "name": "stdout",
     "output_type": "stream",
     "text": [
      "661.0449667755596\n"
     ]
    }
   ],
   "source": [
    "# might have an counterintuitive effect here as the specified calendar is used to calculate the real expiry date. If the calendar is e.g. ql.UnitedStates then this takes weekends and holidays into consideration,\n",
    "# ql.UnitedStates().advance(ql.Date(1,1,2019),ql.Period(365, ql.Days)) => Date(12,6,2020)\n",
    "# whereas ql.NullCalendar().advance(ql.Date(1,1,2019),ql.Period(365, ql.Days)) => Date(1,1,2020)\n",
    "# hence I guess the interest rate curve is not long enough and throws the error message.\n",
    "# So the fix is to make sure to use ql.NullCalendar() accross.\n",
    "print(fixed_rate_bond.NPV())"
   ]
  },
  {
   "cell_type": "code",
   "execution_count": 265,
   "id": "cf1c85a8",
   "metadata": {},
   "outputs": [
    {
     "data": {
      "text/plain": [
       "0.05"
      ]
     },
     "execution_count": 265,
     "metadata": {},
     "output_type": "execute_result"
    }
   ],
   "source": [
    "# bondYield.yield(Real,DayCounter const &,Compounding,Frequency)\n",
    "fixed_rate_bond.nextCouponRate()"
   ]
  },
  {
   "cell_type": "code",
   "execution_count": 290,
   "id": "195d5a92",
   "metadata": {},
   "outputs": [],
   "source": [
    "# fixed_rate_bond.cleanPrice()\n",
    "# fixed_rate_bond.dirtyPrice()\n",
    "# fixed_rate_bond.frequency()\n",
    "# fixed_rate_bond.accruedAmount()\n",
    "# print(fixed_rate_bond.calendar())\n",
    "# fixed_rate_bond.from_interest_rates(2,1000) ,fixed_rate_bond.from_rates()"
   ]
  },
  {
   "cell_type": "code",
   "execution_count": 256,
   "id": "6a7c0584",
   "metadata": {},
   "outputs": [
    {
     "data": {
      "text/plain": [
       "[(Date(1,12,2023), 45.87912087912094), (Date(1,12,2023), 1000.0)]"
      ]
     },
     "execution_count": 256,
     "metadata": {},
     "output_type": "execute_result"
    }
   ],
   "source": [
    "[(cf.date(),cf.amount()) for i,cf in enumerate(fixed_rate_bond.cashflows())]"
   ]
  }
 ],
 "metadata": {
  "kernelspec": {
   "display_name": "Python 3 (ipykernel)",
   "language": "python",
   "name": "python3"
  },
  "language_info": {
   "codemirror_mode": {
    "name": "ipython",
    "version": 3
   },
   "file_extension": ".py",
   "mimetype": "text/x-python",
   "name": "python",
   "nbconvert_exporter": "python",
   "pygments_lexer": "ipython3",
   "version": "3.8.8"
  }
 },
 "nbformat": 4,
 "nbformat_minor": 5
}
