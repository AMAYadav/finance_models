{
 "cells": [
  {
   "cell_type": "code",
   "execution_count": 1,
   "id": "44ff8fc1",
   "metadata": {},
   "outputs": [],
   "source": [
    "# pip install xlrd\n",
    "\n",
    "# import pandas as pd\n",
    "# df = pd.DataFrame([\n",
    "#     \"simple string\",\n",
    "#     \"=2+5+cmd|' /C calc'!A0\",\n",
    "# ])\n",
    "# # df.to_excel(\"pandas_minimal.xlsx\", header=False, index=False, engine=\"openpyxl\")"
   ]
  },
  {
   "cell_type": "code",
   "execution_count": 2,
   "id": "fcab6166",
   "metadata": {},
   "outputs": [],
   "source": [
    "# !pip install matplotlib==3.4.3\n",
    "# !pip installnumpy==1.20.3\n",
    "# !pip installpandas==1.3.4\n",
    "# !pip install pywt==1.1.1\n",
    "# !pip install scipy==1.7.1"
   ]
  },
  {
   "cell_type": "code",
   "execution_count": 155,
   "id": "3f6d10ef",
   "metadata": {},
   "outputs": [],
   "source": [
    "import pandas as pd\n",
    "import numpy as np\n",
    "import xlrd\n",
    "xlrd.__version__\n",
    "import warnings\n",
    "warnings.filterwarnings('ignore')"
   ]
  },
  {
   "cell_type": "code",
   "execution_count": 156,
   "id": "6616c06e",
   "metadata": {},
   "outputs": [],
   "source": [
    "file=pd.read_excel('C:/Users/ajit yadav/OneDrive/Documents/Market_Risk/VaR_Methods.xls',sheet_name='RiskFactor',)\n",
    "portfolio=pd.read_excel('C:/Users/ajit yadav/OneDrive/Documents/Market_Risk/VaR_Methods.xls',sheet_name='Portfolio',)"
   ]
  },
  {
   "cell_type": "code",
   "execution_count": 157,
   "id": "c18f8577",
   "metadata": {},
   "outputs": [
    {
     "data": {
      "text/plain": [
       "Index(['Date', 'SPX Index', '1Y Zero', '5Y Yield', 'SPX Vol'], dtype='object')"
      ]
     },
     "execution_count": 157,
     "metadata": {},
     "output_type": "execute_result"
    }
   ],
   "source": [
    "data=file.iloc[5:,1:6]\n",
    "data\n",
    "data.columns=file.iloc[5,1:6].values\n",
    "data.columns"
   ]
  },
  {
   "cell_type": "code",
   "execution_count": 158,
   "id": "ba5d22c7",
   "metadata": {},
   "outputs": [],
   "source": [
    "data.Date=pd.to_datetime(data.Date, errors='coerce')"
   ]
  },
  {
   "cell_type": "code",
   "execution_count": 159,
   "id": "3665d261",
   "metadata": {},
   "outputs": [
    {
     "data": {
      "text/html": [
       "<div>\n",
       "<style scoped>\n",
       "    .dataframe tbody tr th:only-of-type {\n",
       "        vertical-align: middle;\n",
       "    }\n",
       "\n",
       "    .dataframe tbody tr th {\n",
       "        vertical-align: top;\n",
       "    }\n",
       "\n",
       "    .dataframe thead th {\n",
       "        text-align: right;\n",
       "    }\n",
       "</style>\n",
       "<table border=\"1\" class=\"dataframe\">\n",
       "  <thead>\n",
       "    <tr style=\"text-align: right;\">\n",
       "      <th></th>\n",
       "      <th>Date</th>\n",
       "      <th>SPX Index</th>\n",
       "      <th>1Y Zero</th>\n",
       "      <th>5Y Yield</th>\n",
       "      <th>SPX Vol</th>\n",
       "    </tr>\n",
       "  </thead>\n",
       "  <tbody>\n",
       "    <tr>\n",
       "      <th>5</th>\n",
       "      <td>NaT</td>\n",
       "      <td>SPX Index</td>\n",
       "      <td>1Y Zero</td>\n",
       "      <td>5Y Yield</td>\n",
       "      <td>SPX Vol</td>\n",
       "    </tr>\n",
       "    <tr>\n",
       "      <th>6</th>\n",
       "      <td>2013-12-31</td>\n",
       "      <td>1848.36</td>\n",
       "      <td>0.3138</td>\n",
       "      <td>1.7411</td>\n",
       "      <td>15.2286</td>\n",
       "    </tr>\n",
       "    <tr>\n",
       "      <th>7</th>\n",
       "      <td>2013-12-30</td>\n",
       "      <td>1841.07</td>\n",
       "      <td>0.3083</td>\n",
       "      <td>1.7029</td>\n",
       "      <td>15.1324</td>\n",
       "    </tr>\n",
       "    <tr>\n",
       "      <th>8</th>\n",
       "      <td>2013-12-27</td>\n",
       "      <td>1841.4</td>\n",
       "      <td>0.30763</td>\n",
       "      <td>1.7342</td>\n",
       "      <td>14.93</td>\n",
       "    </tr>\n",
       "    <tr>\n",
       "      <th>9</th>\n",
       "      <td>2013-12-26</td>\n",
       "      <td>1842.02</td>\n",
       "      <td>0.31691</td>\n",
       "      <td>1.7425</td>\n",
       "      <td>15.0158</td>\n",
       "    </tr>\n",
       "    <tr>\n",
       "      <th>...</th>\n",
       "      <td>...</td>\n",
       "      <td>...</td>\n",
       "      <td>...</td>\n",
       "      <td>...</td>\n",
       "      <td>...</td>\n",
       "    </tr>\n",
       "    <tr>\n",
       "      <th>755</th>\n",
       "      <td>2011-01-07</td>\n",
       "      <td>1271.5</td>\n",
       "      <td>0.49736</td>\n",
       "      <td>1.9593</td>\n",
       "      <td>20.7772</td>\n",
       "    </tr>\n",
       "    <tr>\n",
       "      <th>756</th>\n",
       "      <td>2011-01-06</td>\n",
       "      <td>1273.85</td>\n",
       "      <td>0.49735</td>\n",
       "      <td>2.0652</td>\n",
       "      <td>20.7189</td>\n",
       "    </tr>\n",
       "    <tr>\n",
       "      <th>757</th>\n",
       "      <td>2011-01-05</td>\n",
       "      <td>1276.56</td>\n",
       "      <td>0.4869</td>\n",
       "      <td>2.1383</td>\n",
       "      <td>20.5668</td>\n",
       "    </tr>\n",
       "    <tr>\n",
       "      <th>758</th>\n",
       "      <td>2011-01-04</td>\n",
       "      <td>1270.2</td>\n",
       "      <td>0.47758</td>\n",
       "      <td>2.0059</td>\n",
       "      <td>21.0841</td>\n",
       "    </tr>\n",
       "    <tr>\n",
       "      <th>759</th>\n",
       "      <td>2011-01-03</td>\n",
       "      <td>1271.87</td>\n",
       "      <td>0.4958</td>\n",
       "      <td>2.0026</td>\n",
       "      <td>21.0403</td>\n",
       "    </tr>\n",
       "  </tbody>\n",
       "</table>\n",
       "<p>755 rows × 5 columns</p>\n",
       "</div>"
      ],
      "text/plain": [
       "          Date  SPX Index  1Y Zero  5Y Yield  SPX Vol\n",
       "5          NaT  SPX Index  1Y Zero  5Y Yield  SPX Vol\n",
       "6   2013-12-31    1848.36   0.3138    1.7411  15.2286\n",
       "7   2013-12-30    1841.07   0.3083    1.7029  15.1324\n",
       "8   2013-12-27     1841.4  0.30763    1.7342    14.93\n",
       "9   2013-12-26    1842.02  0.31691    1.7425  15.0158\n",
       "..         ...        ...      ...       ...      ...\n",
       "755 2011-01-07     1271.5  0.49736    1.9593  20.7772\n",
       "756 2011-01-06    1273.85  0.49735    2.0652  20.7189\n",
       "757 2011-01-05    1276.56   0.4869    2.1383  20.5668\n",
       "758 2011-01-04     1270.2  0.47758    2.0059  21.0841\n",
       "759 2011-01-03    1271.87   0.4958    2.0026  21.0403\n",
       "\n",
       "[755 rows x 5 columns]"
      ]
     },
     "execution_count": 159,
     "metadata": {},
     "output_type": "execute_result"
    }
   ],
   "source": [
    "data"
   ]
  },
  {
   "cell_type": "code",
   "execution_count": 160,
   "id": "875da456",
   "metadata": {},
   "outputs": [
    {
     "name": "stdout",
     "output_type": "stream",
     "text": [
      "<class 'pandas.core.frame.DataFrame'>\n",
      "RangeIndex: 755 entries, 5 to 759\n",
      "Data columns (total 5 columns):\n",
      " #   Column     Non-Null Count  Dtype         \n",
      "---  ------     --------------  -----         \n",
      " 0   Date       754 non-null    datetime64[ns]\n",
      " 1   SPX Index  755 non-null    object        \n",
      " 2   1Y Zero    755 non-null    object        \n",
      " 3   5Y Yield   755 non-null    object        \n",
      " 4   SPX Vol    755 non-null    object        \n",
      "dtypes: datetime64[ns](1), object(4)\n",
      "memory usage: 29.6+ KB\n"
     ]
    }
   ],
   "source": [
    "data.info()\n",
    "data=data.loc[6:,:]\n",
    "data.set_index('Date',inplace=True)"
   ]
  },
  {
   "cell_type": "code",
   "execution_count": 161,
   "id": "e7d5e7a4",
   "metadata": {},
   "outputs": [
    {
     "data": {
      "text/html": [
       "<div>\n",
       "<style scoped>\n",
       "    .dataframe tbody tr th:only-of-type {\n",
       "        vertical-align: middle;\n",
       "    }\n",
       "\n",
       "    .dataframe tbody tr th {\n",
       "        vertical-align: top;\n",
       "    }\n",
       "\n",
       "    .dataframe thead th {\n",
       "        text-align: right;\n",
       "    }\n",
       "</style>\n",
       "<table border=\"1\" class=\"dataframe\">\n",
       "  <thead>\n",
       "    <tr style=\"text-align: right;\">\n",
       "      <th></th>\n",
       "      <th>SPX Index</th>\n",
       "      <th>1Y Zero</th>\n",
       "      <th>5Y Yield</th>\n",
       "      <th>SPX Vol</th>\n",
       "    </tr>\n",
       "    <tr>\n",
       "      <th>Date</th>\n",
       "      <th></th>\n",
       "      <th></th>\n",
       "      <th></th>\n",
       "      <th></th>\n",
       "    </tr>\n",
       "  </thead>\n",
       "  <tbody>\n",
       "    <tr>\n",
       "      <th>2013-12-31</th>\n",
       "      <td>1848.36</td>\n",
       "      <td>0.3138</td>\n",
       "      <td>1.7411</td>\n",
       "      <td>15.2286</td>\n",
       "    </tr>\n",
       "    <tr>\n",
       "      <th>2013-12-30</th>\n",
       "      <td>1841.07</td>\n",
       "      <td>0.3083</td>\n",
       "      <td>1.7029</td>\n",
       "      <td>15.1324</td>\n",
       "    </tr>\n",
       "    <tr>\n",
       "      <th>2013-12-27</th>\n",
       "      <td>1841.4</td>\n",
       "      <td>0.30763</td>\n",
       "      <td>1.7342</td>\n",
       "      <td>14.93</td>\n",
       "    </tr>\n",
       "    <tr>\n",
       "      <th>2013-12-26</th>\n",
       "      <td>1842.02</td>\n",
       "      <td>0.31691</td>\n",
       "      <td>1.7425</td>\n",
       "      <td>15.0158</td>\n",
       "    </tr>\n",
       "    <tr>\n",
       "      <th>2013-12-24</th>\n",
       "      <td>1833.32</td>\n",
       "      <td>0.31676</td>\n",
       "      <td>1.7326</td>\n",
       "      <td>15.1063</td>\n",
       "    </tr>\n",
       "    <tr>\n",
       "      <th>...</th>\n",
       "      <td>...</td>\n",
       "      <td>...</td>\n",
       "      <td>...</td>\n",
       "      <td>...</td>\n",
       "    </tr>\n",
       "    <tr>\n",
       "      <th>2011-01-07</th>\n",
       "      <td>1271.5</td>\n",
       "      <td>0.49736</td>\n",
       "      <td>1.9593</td>\n",
       "      <td>20.7772</td>\n",
       "    </tr>\n",
       "    <tr>\n",
       "      <th>2011-01-06</th>\n",
       "      <td>1273.85</td>\n",
       "      <td>0.49735</td>\n",
       "      <td>2.0652</td>\n",
       "      <td>20.7189</td>\n",
       "    </tr>\n",
       "    <tr>\n",
       "      <th>2011-01-05</th>\n",
       "      <td>1276.56</td>\n",
       "      <td>0.4869</td>\n",
       "      <td>2.1383</td>\n",
       "      <td>20.5668</td>\n",
       "    </tr>\n",
       "    <tr>\n",
       "      <th>2011-01-04</th>\n",
       "      <td>1270.2</td>\n",
       "      <td>0.47758</td>\n",
       "      <td>2.0059</td>\n",
       "      <td>21.0841</td>\n",
       "    </tr>\n",
       "    <tr>\n",
       "      <th>2011-01-03</th>\n",
       "      <td>1271.87</td>\n",
       "      <td>0.4958</td>\n",
       "      <td>2.0026</td>\n",
       "      <td>21.0403</td>\n",
       "    </tr>\n",
       "  </tbody>\n",
       "</table>\n",
       "<p>754 rows × 4 columns</p>\n",
       "</div>"
      ],
      "text/plain": [
       "           SPX Index  1Y Zero 5Y Yield  SPX Vol\n",
       "Date                                           \n",
       "2013-12-31   1848.36   0.3138   1.7411  15.2286\n",
       "2013-12-30   1841.07   0.3083   1.7029  15.1324\n",
       "2013-12-27    1841.4  0.30763   1.7342    14.93\n",
       "2013-12-26   1842.02  0.31691   1.7425  15.0158\n",
       "2013-12-24   1833.32  0.31676   1.7326  15.1063\n",
       "...              ...      ...      ...      ...\n",
       "2011-01-07    1271.5  0.49736   1.9593  20.7772\n",
       "2011-01-06   1273.85  0.49735   2.0652  20.7189\n",
       "2011-01-05   1276.56   0.4869   2.1383  20.5668\n",
       "2011-01-04    1270.2  0.47758   2.0059  21.0841\n",
       "2011-01-03   1271.87   0.4958   2.0026  21.0403\n",
       "\n",
       "[754 rows x 4 columns]"
      ]
     },
     "execution_count": 161,
     "metadata": {},
     "output_type": "execute_result"
    }
   ],
   "source": [
    "data"
   ]
  },
  {
   "cell_type": "code",
   "execution_count": 162,
   "id": "ef314c4c",
   "metadata": {},
   "outputs": [
    {
     "data": {
      "text/plain": [
       "array(['SPX Index', '1Y Zero', '5Y Yield', 'SPX Vol'], dtype=object)"
      ]
     },
     "execution_count": 162,
     "metadata": {},
     "output_type": "execute_result"
    }
   ],
   "source": [
    "data.columns.values"
   ]
  },
  {
   "cell_type": "code",
   "execution_count": 163,
   "id": "57248dd6",
   "metadata": {},
   "outputs": [
    {
     "data": {
      "text/html": [
       "<div>\n",
       "<style scoped>\n",
       "    .dataframe tbody tr th:only-of-type {\n",
       "        vertical-align: middle;\n",
       "    }\n",
       "\n",
       "    .dataframe tbody tr th {\n",
       "        vertical-align: top;\n",
       "    }\n",
       "\n",
       "    .dataframe thead th {\n",
       "        text-align: right;\n",
       "    }\n",
       "</style>\n",
       "<table border=\"1\" class=\"dataframe\">\n",
       "  <thead>\n",
       "    <tr style=\"text-align: right;\">\n",
       "      <th></th>\n",
       "      <th>volatility</th>\n",
       "    </tr>\n",
       "  </thead>\n",
       "  <tbody>\n",
       "    <tr>\n",
       "      <th>SPX Index</th>\n",
       "      <td>0.010476</td>\n",
       "    </tr>\n",
       "    <tr>\n",
       "      <th>1Y Zero</th>\n",
       "      <td>0.028878</td>\n",
       "    </tr>\n",
       "    <tr>\n",
       "      <th>5Y Yield</th>\n",
       "      <td>0.042588</td>\n",
       "    </tr>\n",
       "    <tr>\n",
       "      <th>SPX Vol</th>\n",
       "      <td>0.023629</td>\n",
       "    </tr>\n",
       "  </tbody>\n",
       "</table>\n",
       "</div>"
      ],
      "text/plain": [
       "           volatility\n",
       "SPX Index    0.010476\n",
       "1Y Zero      0.028878\n",
       "5Y Yield     0.042588\n",
       "SPX Vol      0.023629"
      ]
     },
     "execution_count": 163,
     "metadata": {},
     "output_type": "execute_result"
    }
   ],
   "source": [
    "log_data=np.log(data.astype('float64')/data.shift().astype('float64'))\n",
    "volatility=pd.DataFrame(np.std(log_data),columns=['volatility'])\n",
    "volatility"
   ]
  },
  {
   "cell_type": "code",
   "execution_count": 164,
   "id": "ad4e516b",
   "metadata": {},
   "outputs": [
    {
     "data": {
      "text/html": [
       "<div>\n",
       "<style scoped>\n",
       "    .dataframe tbody tr th:only-of-type {\n",
       "        vertical-align: middle;\n",
       "    }\n",
       "\n",
       "    .dataframe tbody tr th {\n",
       "        vertical-align: top;\n",
       "    }\n",
       "\n",
       "    .dataframe thead th {\n",
       "        text-align: right;\n",
       "    }\n",
       "</style>\n",
       "<table border=\"1\" class=\"dataframe\">\n",
       "  <thead>\n",
       "    <tr style=\"text-align: right;\">\n",
       "      <th></th>\n",
       "      <th>SPX Index</th>\n",
       "      <th>1Y Zero</th>\n",
       "      <th>5Y Yield</th>\n",
       "      <th>SPX Vol</th>\n",
       "    </tr>\n",
       "    <tr>\n",
       "      <th>Date</th>\n",
       "      <th></th>\n",
       "      <th></th>\n",
       "      <th></th>\n",
       "      <th></th>\n",
       "    </tr>\n",
       "  </thead>\n",
       "  <tbody>\n",
       "    <tr>\n",
       "      <th>2013-12-31</th>\n",
       "      <td>1848.36</td>\n",
       "      <td>0.3138</td>\n",
       "      <td>1.7411</td>\n",
       "      <td>15.2286</td>\n",
       "    </tr>\n",
       "  </tbody>\n",
       "</table>\n",
       "</div>"
      ],
      "text/plain": [
       "           SPX Index 1Y Zero 5Y Yield  SPX Vol\n",
       "Date                                          \n",
       "2013-12-31   1848.36  0.3138   1.7411  15.2286"
      ]
     },
     "execution_count": 164,
     "metadata": {},
     "output_type": "execute_result"
    }
   ],
   "source": [
    "last_traded_price=data.head(1)\n",
    "last_traded_price"
   ]
  },
  {
   "cell_type": "code",
   "execution_count": 165,
   "id": "dde8818c",
   "metadata": {},
   "outputs": [
    {
     "data": {
      "text/html": [
       "<div>\n",
       "<style scoped>\n",
       "    .dataframe tbody tr th:only-of-type {\n",
       "        vertical-align: middle;\n",
       "    }\n",
       "\n",
       "    .dataframe tbody tr th {\n",
       "        vertical-align: top;\n",
       "    }\n",
       "\n",
       "    .dataframe thead th {\n",
       "        text-align: right;\n",
       "    }\n",
       "</style>\n",
       "<table border=\"1\" class=\"dataframe\">\n",
       "  <thead>\n",
       "    <tr style=\"text-align: right;\">\n",
       "      <th></th>\n",
       "      <th>Unnamed: 0</th>\n",
       "      <th>Unnamed: 1</th>\n",
       "      <th>Unnamed: 2</th>\n",
       "      <th>Unnamed: 3</th>\n",
       "      <th>Unnamed: 4</th>\n",
       "      <th>Unnamed: 5</th>\n",
       "      <th>Unnamed: 6</th>\n",
       "      <th>Unnamed: 7</th>\n",
       "    </tr>\n",
       "  </thead>\n",
       "  <tbody>\n",
       "    <tr>\n",
       "      <th>0</th>\n",
       "      <td></td>\n",
       "      <td>Hypothetical Portfolio as of date 2013-12-31</td>\n",
       "      <td></td>\n",
       "      <td></td>\n",
       "      <td></td>\n",
       "      <td></td>\n",
       "      <td></td>\n",
       "      <td></td>\n",
       "    </tr>\n",
       "    <tr>\n",
       "      <th>1</th>\n",
       "      <td></td>\n",
       "      <td>Asset Information</td>\n",
       "      <td>Product Type</td>\n",
       "      <td>Equity</td>\n",
       "      <td>Product Type</td>\n",
       "      <td>Option</td>\n",
       "      <td>Product Type</td>\n",
       "      <td>Bond</td>\n",
       "    </tr>\n",
       "    <tr>\n",
       "      <th>2</th>\n",
       "      <td></td>\n",
       "      <td></td>\n",
       "      <td>Asset</td>\n",
       "      <td>SPX Index</td>\n",
       "      <td>Asset</td>\n",
       "      <td>SPX Index Call</td>\n",
       "      <td>Asset</td>\n",
       "      <td>5Y T-Bond</td>\n",
       "    </tr>\n",
       "    <tr>\n",
       "      <th>3</th>\n",
       "      <td></td>\n",
       "      <td></td>\n",
       "      <td>Risk Feature</td>\n",
       "      <td>Linear</td>\n",
       "      <td>Risk Feature</td>\n",
       "      <td>Nonlinear</td>\n",
       "      <td>Risk Feature</td>\n",
       "      <td>Nonlinear</td>\n",
       "    </tr>\n",
       "    <tr>\n",
       "      <th>4</th>\n",
       "      <td></td>\n",
       "      <td></td>\n",
       "      <td>Notional</td>\n",
       "      <td>1000000</td>\n",
       "      <td>Notional</td>\n",
       "      <td>-1500000</td>\n",
       "      <td>Notional</td>\n",
       "      <td>500000</td>\n",
       "    </tr>\n",
       "    <tr>\n",
       "      <th>5</th>\n",
       "      <td></td>\n",
       "      <td></td>\n",
       "      <td>Spot</td>\n",
       "      <td>1848.36</td>\n",
       "      <td>Option Type</td>\n",
       "      <td>Call</td>\n",
       "      <td>Settlement Date</td>\n",
       "      <td>2013-12-31 00:00:00</td>\n",
       "    </tr>\n",
       "    <tr>\n",
       "      <th>6</th>\n",
       "      <td></td>\n",
       "      <td></td>\n",
       "      <td></td>\n",
       "      <td></td>\n",
       "      <td>Maturity (years)</td>\n",
       "      <td>1</td>\n",
       "      <td>Maturity Date</td>\n",
       "      <td>2018-12-31 00:00:00</td>\n",
       "    </tr>\n",
       "    <tr>\n",
       "      <th>7</th>\n",
       "      <td></td>\n",
       "      <td></td>\n",
       "      <td></td>\n",
       "      <td></td>\n",
       "      <td>1Y Zero Rate</td>\n",
       "      <td>0.003138</td>\n",
       "      <td>Coupon Rate</td>\n",
       "      <td>0.02</td>\n",
       "    </tr>\n",
       "    <tr>\n",
       "      <th>8</th>\n",
       "      <td></td>\n",
       "      <td></td>\n",
       "      <td></td>\n",
       "      <td></td>\n",
       "      <td>Dividend Rate</td>\n",
       "      <td>0</td>\n",
       "      <td>Yield Rate</td>\n",
       "      <td>0.017411</td>\n",
       "    </tr>\n",
       "    <tr>\n",
       "      <th>9</th>\n",
       "      <td></td>\n",
       "      <td></td>\n",
       "      <td></td>\n",
       "      <td></td>\n",
       "      <td>Strike</td>\n",
       "      <td>1848.36</td>\n",
       "      <td>Redemption Value</td>\n",
       "      <td>100</td>\n",
       "    </tr>\n",
       "    <tr>\n",
       "      <th>10</th>\n",
       "      <td></td>\n",
       "      <td></td>\n",
       "      <td></td>\n",
       "      <td></td>\n",
       "      <td>Volatility</td>\n",
       "      <td>0.152286</td>\n",
       "      <td>Coupon Frequency</td>\n",
       "      <td>2</td>\n",
       "    </tr>\n",
       "    <tr>\n",
       "      <th>11</th>\n",
       "      <td></td>\n",
       "      <td></td>\n",
       "      <td></td>\n",
       "      <td></td>\n",
       "      <td>Spot</td>\n",
       "      <td>1848.36</td>\n",
       "      <td>Day Count Basis</td>\n",
       "      <td>2</td>\n",
       "    </tr>\n",
       "    <tr>\n",
       "      <th>12</th>\n",
       "      <td></td>\n",
       "      <td></td>\n",
       "      <td></td>\n",
       "      <td></td>\n",
       "      <td></td>\n",
       "      <td></td>\n",
       "      <td></td>\n",
       "      <td></td>\n",
       "    </tr>\n",
       "    <tr>\n",
       "      <th>13</th>\n",
       "      <td></td>\n",
       "      <td></td>\n",
       "      <td>Present Value</td>\n",
       "      <td>1000000</td>\n",
       "      <td>Present Value</td>\n",
       "      <td>-93268.454891</td>\n",
       "      <td>Present Value</td>\n",
       "      <td>506173.088552</td>\n",
       "    </tr>\n",
       "    <tr>\n",
       "      <th>14</th>\n",
       "      <td></td>\n",
       "      <td></td>\n",
       "      <td></td>\n",
       "      <td></td>\n",
       "      <td></td>\n",
       "      <td></td>\n",
       "      <td></td>\n",
       "      <td></td>\n",
       "    </tr>\n",
       "    <tr>\n",
       "      <th>15</th>\n",
       "      <td></td>\n",
       "      <td>Sensitivities</td>\n",
       "      <td>Delta (SPX)</td>\n",
       "      <td>541.020148</td>\n",
       "      <td>Delta (SPX)</td>\n",
       "      <td>-437.038982</td>\n",
       "      <td>PV01 (5Y Yield)</td>\n",
       "      <td>-240.09633</td>\n",
       "    </tr>\n",
       "    <tr>\n",
       "      <th>16</th>\n",
       "      <td></td>\n",
       "      <td></td>\n",
       "      <td></td>\n",
       "      <td></td>\n",
       "      <td>Vega (SPX Vol)</td>\n",
       "      <td>-5956.16264</td>\n",
       "      <td></td>\n",
       "      <td></td>\n",
       "    </tr>\n",
       "    <tr>\n",
       "      <th>17</th>\n",
       "      <td></td>\n",
       "      <td></td>\n",
       "      <td></td>\n",
       "      <td></td>\n",
       "      <td>PV01 (1Y Zero)</td>\n",
       "      <td>-71.453722</td>\n",
       "      <td></td>\n",
       "      <td></td>\n",
       "    </tr>\n",
       "    <tr>\n",
       "      <th>18</th>\n",
       "      <td></td>\n",
       "      <td></td>\n",
       "      <td></td>\n",
       "      <td></td>\n",
       "      <td></td>\n",
       "      <td></td>\n",
       "      <td></td>\n",
       "      <td></td>\n",
       "    </tr>\n",
       "    <tr>\n",
       "      <th>19</th>\n",
       "      <td></td>\n",
       "      <td></td>\n",
       "      <td></td>\n",
       "      <td></td>\n",
       "      <td></td>\n",
       "      <td></td>\n",
       "      <td></td>\n",
       "      <td></td>\n",
       "    </tr>\n",
       "    <tr>\n",
       "      <th>20</th>\n",
       "      <td></td>\n",
       "      <td></td>\n",
       "      <td></td>\n",
       "      <td></td>\n",
       "      <td></td>\n",
       "      <td></td>\n",
       "      <td>Total Present Value of Portfolio</td>\n",
       "      <td></td>\n",
       "    </tr>\n",
       "    <tr>\n",
       "      <th>21</th>\n",
       "      <td></td>\n",
       "      <td></td>\n",
       "      <td></td>\n",
       "      <td></td>\n",
       "      <td></td>\n",
       "      <td></td>\n",
       "      <td></td>\n",
       "      <td>1412904.633661</td>\n",
       "    </tr>\n",
       "  </tbody>\n",
       "</table>\n",
       "</div>"
      ],
      "text/plain": [
       "   Unnamed: 0                                    Unnamed: 1     Unnamed: 2  \\\n",
       "0              Hypothetical Portfolio as of date 2013-12-31                  \n",
       "1                                         Asset Information   Product Type   \n",
       "2                                                                    Asset   \n",
       "3                                                             Risk Feature   \n",
       "4                                                                 Notional   \n",
       "5                                                                     Spot   \n",
       "6                                                                            \n",
       "7                                                                            \n",
       "8                                                                            \n",
       "9                                                                            \n",
       "10                                                                           \n",
       "11                                                                           \n",
       "12                                                                           \n",
       "13                                                           Present Value   \n",
       "14                                                                           \n",
       "15                                            Sensitivities    Delta (SPX)   \n",
       "16                                                                           \n",
       "17                                                                           \n",
       "18                                                                           \n",
       "19                                                                           \n",
       "20                                                                           \n",
       "21                                                                           \n",
       "\n",
       "    Unnamed: 3        Unnamed: 4      Unnamed: 5  \\\n",
       "0                                                  \n",
       "1       Equity      Product Type          Option   \n",
       "2    SPX Index             Asset  SPX Index Call   \n",
       "3       Linear      Risk Feature       Nonlinear   \n",
       "4      1000000          Notional        -1500000   \n",
       "5      1848.36       Option Type            Call   \n",
       "6               Maturity (years)               1   \n",
       "7                   1Y Zero Rate        0.003138   \n",
       "8                  Dividend Rate               0   \n",
       "9                         Strike         1848.36   \n",
       "10                    Volatility        0.152286   \n",
       "11                          Spot         1848.36   \n",
       "12                                                 \n",
       "13     1000000     Present Value   -93268.454891   \n",
       "14                                                 \n",
       "15  541.020148       Delta (SPX)     -437.038982   \n",
       "16                Vega (SPX Vol)     -5956.16264   \n",
       "17                PV01 (1Y Zero)      -71.453722   \n",
       "18                                                 \n",
       "19                                                 \n",
       "20                                                 \n",
       "21                                                 \n",
       "\n",
       "                          Unnamed: 6           Unnamed: 7  \n",
       "0                                                          \n",
       "1                       Product Type                 Bond  \n",
       "2                              Asset            5Y T-Bond  \n",
       "3                       Risk Feature            Nonlinear  \n",
       "4                           Notional               500000  \n",
       "5                    Settlement Date  2013-12-31 00:00:00  \n",
       "6                      Maturity Date  2018-12-31 00:00:00  \n",
       "7                        Coupon Rate                 0.02  \n",
       "8                         Yield Rate             0.017411  \n",
       "9                   Redemption Value                  100  \n",
       "10                  Coupon Frequency                    2  \n",
       "11                   Day Count Basis                    2  \n",
       "12                                                         \n",
       "13                     Present Value        506173.088552  \n",
       "14                                                         \n",
       "15                   PV01 (5Y Yield)           -240.09633  \n",
       "16                                                         \n",
       "17                                                         \n",
       "18                                                         \n",
       "19                                                         \n",
       "20  Total Present Value of Portfolio                       \n",
       "21                                         1412904.633661  "
      ]
     },
     "execution_count": 165,
     "metadata": {},
     "output_type": "execute_result"
    }
   ],
   "source": [
    "# portfolio=portfolio.iloc[1:,:]\n",
    "portfolio.fillna('',inplace=True)\n",
    "portfolio\n",
    "# hiding index\n",
    "# print df.to_string(index=False)"
   ]
  },
  {
   "cell_type": "code",
   "execution_count": 166,
   "id": "36ce1d19",
   "metadata": {
    "scrolled": false
   },
   "outputs": [
    {
     "data": {
      "text/html": [
       "<div>\n",
       "<style scoped>\n",
       "    .dataframe tbody tr th:only-of-type {\n",
       "        vertical-align: middle;\n",
       "    }\n",
       "\n",
       "    .dataframe tbody tr th {\n",
       "        vertical-align: top;\n",
       "    }\n",
       "\n",
       "    .dataframe thead th {\n",
       "        text-align: right;\n",
       "    }\n",
       "</style>\n",
       "<table border=\"1\" class=\"dataframe\">\n",
       "  <thead>\n",
       "    <tr style=\"text-align: right;\">\n",
       "      <th></th>\n",
       "      <th></th>\n",
       "      <th>Asset Information</th>\n",
       "      <th>Product Type</th>\n",
       "      <th>Equity</th>\n",
       "      <th>Product Type</th>\n",
       "      <th>Option</th>\n",
       "      <th>Product Type</th>\n",
       "      <th>Bond</th>\n",
       "    </tr>\n",
       "  </thead>\n",
       "  <tbody>\n",
       "    <tr>\n",
       "      <th>0</th>\n",
       "      <td></td>\n",
       "      <td>Hypothetical Portfolio as of date 2013-12-31</td>\n",
       "      <td></td>\n",
       "      <td></td>\n",
       "      <td></td>\n",
       "      <td></td>\n",
       "      <td></td>\n",
       "      <td></td>\n",
       "    </tr>\n",
       "    <tr>\n",
       "      <th>2</th>\n",
       "      <td></td>\n",
       "      <td></td>\n",
       "      <td>Asset</td>\n",
       "      <td>SPX Index</td>\n",
       "      <td>Asset</td>\n",
       "      <td>SPX Index Call</td>\n",
       "      <td>Asset</td>\n",
       "      <td>5Y T-Bond</td>\n",
       "    </tr>\n",
       "    <tr>\n",
       "      <th>3</th>\n",
       "      <td></td>\n",
       "      <td></td>\n",
       "      <td>Risk Feature</td>\n",
       "      <td>Linear</td>\n",
       "      <td>Risk Feature</td>\n",
       "      <td>Nonlinear</td>\n",
       "      <td>Risk Feature</td>\n",
       "      <td>Nonlinear</td>\n",
       "    </tr>\n",
       "    <tr>\n",
       "      <th>4</th>\n",
       "      <td></td>\n",
       "      <td></td>\n",
       "      <td>Notional</td>\n",
       "      <td>1000000</td>\n",
       "      <td>Notional</td>\n",
       "      <td>-1500000</td>\n",
       "      <td>Notional</td>\n",
       "      <td>500000</td>\n",
       "    </tr>\n",
       "    <tr>\n",
       "      <th>5</th>\n",
       "      <td></td>\n",
       "      <td></td>\n",
       "      <td>Spot</td>\n",
       "      <td>1848.36</td>\n",
       "      <td>Option Type</td>\n",
       "      <td>Call</td>\n",
       "      <td>Settlement Date</td>\n",
       "      <td>2013-12-31 00:00:00</td>\n",
       "    </tr>\n",
       "    <tr>\n",
       "      <th>6</th>\n",
       "      <td></td>\n",
       "      <td></td>\n",
       "      <td></td>\n",
       "      <td></td>\n",
       "      <td>Maturity (years)</td>\n",
       "      <td>1</td>\n",
       "      <td>Maturity Date</td>\n",
       "      <td>2018-12-31 00:00:00</td>\n",
       "    </tr>\n",
       "    <tr>\n",
       "      <th>7</th>\n",
       "      <td></td>\n",
       "      <td></td>\n",
       "      <td></td>\n",
       "      <td></td>\n",
       "      <td>1Y Zero Rate</td>\n",
       "      <td>0.003138</td>\n",
       "      <td>Coupon Rate</td>\n",
       "      <td>0.02</td>\n",
       "    </tr>\n",
       "    <tr>\n",
       "      <th>8</th>\n",
       "      <td></td>\n",
       "      <td></td>\n",
       "      <td></td>\n",
       "      <td></td>\n",
       "      <td>Dividend Rate</td>\n",
       "      <td>0</td>\n",
       "      <td>Yield Rate</td>\n",
       "      <td>0.017411</td>\n",
       "    </tr>\n",
       "    <tr>\n",
       "      <th>9</th>\n",
       "      <td></td>\n",
       "      <td></td>\n",
       "      <td></td>\n",
       "      <td></td>\n",
       "      <td>Strike</td>\n",
       "      <td>1848.36</td>\n",
       "      <td>Redemption Value</td>\n",
       "      <td>100</td>\n",
       "    </tr>\n",
       "    <tr>\n",
       "      <th>10</th>\n",
       "      <td></td>\n",
       "      <td></td>\n",
       "      <td></td>\n",
       "      <td></td>\n",
       "      <td>Volatility</td>\n",
       "      <td>0.152286</td>\n",
       "      <td>Coupon Frequency</td>\n",
       "      <td>2</td>\n",
       "    </tr>\n",
       "    <tr>\n",
       "      <th>11</th>\n",
       "      <td></td>\n",
       "      <td></td>\n",
       "      <td></td>\n",
       "      <td></td>\n",
       "      <td>Spot</td>\n",
       "      <td>1848.36</td>\n",
       "      <td>Day Count Basis</td>\n",
       "      <td>2</td>\n",
       "    </tr>\n",
       "    <tr>\n",
       "      <th>12</th>\n",
       "      <td></td>\n",
       "      <td></td>\n",
       "      <td></td>\n",
       "      <td></td>\n",
       "      <td></td>\n",
       "      <td></td>\n",
       "      <td></td>\n",
       "      <td></td>\n",
       "    </tr>\n",
       "    <tr>\n",
       "      <th>13</th>\n",
       "      <td></td>\n",
       "      <td></td>\n",
       "      <td>Present Value</td>\n",
       "      <td>1000000</td>\n",
       "      <td>Present Value</td>\n",
       "      <td>-93268.454891</td>\n",
       "      <td>Present Value</td>\n",
       "      <td>506173.088552</td>\n",
       "    </tr>\n",
       "    <tr>\n",
       "      <th>14</th>\n",
       "      <td></td>\n",
       "      <td></td>\n",
       "      <td></td>\n",
       "      <td></td>\n",
       "      <td></td>\n",
       "      <td></td>\n",
       "      <td></td>\n",
       "      <td></td>\n",
       "    </tr>\n",
       "    <tr>\n",
       "      <th>15</th>\n",
       "      <td></td>\n",
       "      <td>Sensitivities</td>\n",
       "      <td>Delta (SPX)</td>\n",
       "      <td>541.020148</td>\n",
       "      <td>Delta (SPX)</td>\n",
       "      <td>-437.038982</td>\n",
       "      <td>PV01 (5Y Yield)</td>\n",
       "      <td>-240.09633</td>\n",
       "    </tr>\n",
       "    <tr>\n",
       "      <th>16</th>\n",
       "      <td></td>\n",
       "      <td></td>\n",
       "      <td></td>\n",
       "      <td></td>\n",
       "      <td>Vega (SPX Vol)</td>\n",
       "      <td>-5956.16264</td>\n",
       "      <td></td>\n",
       "      <td></td>\n",
       "    </tr>\n",
       "    <tr>\n",
       "      <th>17</th>\n",
       "      <td></td>\n",
       "      <td></td>\n",
       "      <td></td>\n",
       "      <td></td>\n",
       "      <td>PV01 (1Y Zero)</td>\n",
       "      <td>-71.453722</td>\n",
       "      <td></td>\n",
       "      <td></td>\n",
       "    </tr>\n",
       "    <tr>\n",
       "      <th>18</th>\n",
       "      <td></td>\n",
       "      <td></td>\n",
       "      <td></td>\n",
       "      <td></td>\n",
       "      <td></td>\n",
       "      <td></td>\n",
       "      <td></td>\n",
       "      <td></td>\n",
       "    </tr>\n",
       "    <tr>\n",
       "      <th>19</th>\n",
       "      <td></td>\n",
       "      <td></td>\n",
       "      <td></td>\n",
       "      <td></td>\n",
       "      <td></td>\n",
       "      <td></td>\n",
       "      <td></td>\n",
       "      <td></td>\n",
       "    </tr>\n",
       "    <tr>\n",
       "      <th>20</th>\n",
       "      <td></td>\n",
       "      <td></td>\n",
       "      <td></td>\n",
       "      <td></td>\n",
       "      <td></td>\n",
       "      <td></td>\n",
       "      <td>Total Present Value of Portfolio</td>\n",
       "      <td></td>\n",
       "    </tr>\n",
       "    <tr>\n",
       "      <th>21</th>\n",
       "      <td></td>\n",
       "      <td></td>\n",
       "      <td></td>\n",
       "      <td></td>\n",
       "      <td></td>\n",
       "      <td></td>\n",
       "      <td></td>\n",
       "      <td>1412904.633661</td>\n",
       "    </tr>\n",
       "  </tbody>\n",
       "</table>\n",
       "</div>"
      ],
      "text/plain": [
       "                                 Asset Information   Product Type      Equity  \\\n",
       "0     Hypothetical Portfolio as of date 2013-12-31                              \n",
       "2                                                           Asset   SPX Index   \n",
       "3                                                    Risk Feature      Linear   \n",
       "4                                                        Notional     1000000   \n",
       "5                                                            Spot     1848.36   \n",
       "6                                                                               \n",
       "7                                                                               \n",
       "8                                                                               \n",
       "9                                                                               \n",
       "10                                                                              \n",
       "11                                                                              \n",
       "12                                                                              \n",
       "13                                                  Present Value     1000000   \n",
       "14                                                                              \n",
       "15                                   Sensitivities    Delta (SPX)  541.020148   \n",
       "16                                                                              \n",
       "17                                                                              \n",
       "18                                                                              \n",
       "19                                                                              \n",
       "20                                                                              \n",
       "21                                                                              \n",
       "\n",
       "        Product Type          Option                      Product Type  \\\n",
       "0                                                                        \n",
       "2              Asset  SPX Index Call                             Asset   \n",
       "3       Risk Feature       Nonlinear                      Risk Feature   \n",
       "4           Notional        -1500000                          Notional   \n",
       "5        Option Type            Call                   Settlement Date   \n",
       "6   Maturity (years)               1                     Maturity Date   \n",
       "7       1Y Zero Rate        0.003138                       Coupon Rate   \n",
       "8      Dividend Rate               0                        Yield Rate   \n",
       "9             Strike         1848.36                  Redemption Value   \n",
       "10        Volatility        0.152286                  Coupon Frequency   \n",
       "11              Spot         1848.36                   Day Count Basis   \n",
       "12                                                                       \n",
       "13     Present Value   -93268.454891                     Present Value   \n",
       "14                                                                       \n",
       "15       Delta (SPX)     -437.038982                   PV01 (5Y Yield)   \n",
       "16    Vega (SPX Vol)     -5956.16264                                     \n",
       "17    PV01 (1Y Zero)      -71.453722                                     \n",
       "18                                                                       \n",
       "19                                                                       \n",
       "20                                    Total Present Value of Portfolio   \n",
       "21                                                                       \n",
       "\n",
       "                   Bond  \n",
       "0                        \n",
       "2             5Y T-Bond  \n",
       "3             Nonlinear  \n",
       "4                500000  \n",
       "5   2013-12-31 00:00:00  \n",
       "6   2018-12-31 00:00:00  \n",
       "7                  0.02  \n",
       "8              0.017411  \n",
       "9                   100  \n",
       "10                    2  \n",
       "11                    2  \n",
       "12                       \n",
       "13        506173.088552  \n",
       "14                       \n",
       "15           -240.09633  \n",
       "16                       \n",
       "17                       \n",
       "18                       \n",
       "19                       \n",
       "20                       \n",
       "21       1412904.633661  "
      ]
     },
     "execution_count": 166,
     "metadata": {},
     "output_type": "execute_result"
    }
   ],
   "source": [
    "# portfolio.fillna('',inplace=True)\n",
    "portfolio.columns=portfolio.loc[1].values\n",
    "portfolio= portfolio.drop(1)\n",
    "portfolio"
   ]
  },
  {
   "cell_type": "code",
   "execution_count": 167,
   "id": "17465433",
   "metadata": {},
   "outputs": [
    {
     "data": {
      "text/html": [
       "<div>\n",
       "<style scoped>\n",
       "    .dataframe tbody tr th:only-of-type {\n",
       "        vertical-align: middle;\n",
       "    }\n",
       "\n",
       "    .dataframe tbody tr th {\n",
       "        vertical-align: top;\n",
       "    }\n",
       "\n",
       "    .dataframe thead th {\n",
       "        text-align: right;\n",
       "    }\n",
       "</style>\n",
       "<table border=\"1\" class=\"dataframe\">\n",
       "  <thead>\n",
       "    <tr style=\"text-align: right;\">\n",
       "      <th></th>\n",
       "      <th>SPX Index</th>\n",
       "      <th>1Y Zero</th>\n",
       "      <th>5Y Yield</th>\n",
       "      <th>SPX Vol</th>\n",
       "    </tr>\n",
       "    <tr>\n",
       "      <th>Date</th>\n",
       "      <th></th>\n",
       "      <th></th>\n",
       "      <th></th>\n",
       "      <th></th>\n",
       "    </tr>\n",
       "  </thead>\n",
       "  <tbody>\n",
       "    <tr>\n",
       "      <th>2013-12-31</th>\n",
       "      <td>NaN</td>\n",
       "      <td>NaN</td>\n",
       "      <td>NaN</td>\n",
       "      <td>NaN</td>\n",
       "    </tr>\n",
       "    <tr>\n",
       "      <th>2013-12-30</th>\n",
       "      <td>-0.003952</td>\n",
       "      <td>-0.017683</td>\n",
       "      <td>-0.022184</td>\n",
       "      <td>-0.006337</td>\n",
       "    </tr>\n",
       "    <tr>\n",
       "      <th>2013-12-27</th>\n",
       "      <td>0.000179</td>\n",
       "      <td>-0.002176</td>\n",
       "      <td>0.018214</td>\n",
       "      <td>-0.013466</td>\n",
       "    </tr>\n",
       "    <tr>\n",
       "      <th>2013-12-26</th>\n",
       "      <td>0.000337</td>\n",
       "      <td>0.029720</td>\n",
       "      <td>0.004775</td>\n",
       "      <td>0.005730</td>\n",
       "    </tr>\n",
       "    <tr>\n",
       "      <th>2013-12-24</th>\n",
       "      <td>-0.004734</td>\n",
       "      <td>-0.000473</td>\n",
       "      <td>-0.005698</td>\n",
       "      <td>0.006009</td>\n",
       "    </tr>\n",
       "    <tr>\n",
       "      <th>...</th>\n",
       "      <td>...</td>\n",
       "      <td>...</td>\n",
       "      <td>...</td>\n",
       "      <td>...</td>\n",
       "    </tr>\n",
       "    <tr>\n",
       "      <th>2011-01-07</th>\n",
       "      <td>0.001377</td>\n",
       "      <td>0.017013</td>\n",
       "      <td>0.023915</td>\n",
       "      <td>0.002800</td>\n",
       "    </tr>\n",
       "    <tr>\n",
       "      <th>2011-01-06</th>\n",
       "      <td>0.001847</td>\n",
       "      <td>-0.000020</td>\n",
       "      <td>0.052640</td>\n",
       "      <td>-0.002810</td>\n",
       "    </tr>\n",
       "    <tr>\n",
       "      <th>2011-01-05</th>\n",
       "      <td>0.002125</td>\n",
       "      <td>-0.021235</td>\n",
       "      <td>0.034784</td>\n",
       "      <td>-0.007368</td>\n",
       "    </tr>\n",
       "    <tr>\n",
       "      <th>2011-01-04</th>\n",
       "      <td>-0.004995</td>\n",
       "      <td>-0.019327</td>\n",
       "      <td>-0.063918</td>\n",
       "      <td>0.024841</td>\n",
       "    </tr>\n",
       "    <tr>\n",
       "      <th>2011-01-03</th>\n",
       "      <td>0.001314</td>\n",
       "      <td>0.037441</td>\n",
       "      <td>-0.001647</td>\n",
       "      <td>-0.002080</td>\n",
       "    </tr>\n",
       "  </tbody>\n",
       "</table>\n",
       "<p>754 rows × 4 columns</p>\n",
       "</div>"
      ],
      "text/plain": [
       "            SPX Index   1Y Zero  5Y Yield   SPX Vol\n",
       "Date                                               \n",
       "2013-12-31        NaN       NaN       NaN       NaN\n",
       "2013-12-30  -0.003952 -0.017683 -0.022184 -0.006337\n",
       "2013-12-27   0.000179 -0.002176  0.018214 -0.013466\n",
       "2013-12-26   0.000337  0.029720  0.004775  0.005730\n",
       "2013-12-24  -0.004734 -0.000473 -0.005698  0.006009\n",
       "...               ...       ...       ...       ...\n",
       "2011-01-07   0.001377  0.017013  0.023915  0.002800\n",
       "2011-01-06   0.001847 -0.000020  0.052640 -0.002810\n",
       "2011-01-05   0.002125 -0.021235  0.034784 -0.007368\n",
       "2011-01-04  -0.004995 -0.019327 -0.063918  0.024841\n",
       "2011-01-03   0.001314  0.037441 -0.001647 -0.002080\n",
       "\n",
       "[754 rows x 4 columns]"
      ]
     },
     "execution_count": 167,
     "metadata": {},
     "output_type": "execute_result"
    }
   ],
   "source": [
    "log_data.squeeze()"
   ]
  },
  {
   "cell_type": "code",
   "execution_count": 168,
   "id": "c0a33c42",
   "metadata": {},
   "outputs": [],
   "source": [
    "# blank_index = ['']* len(portfolio)\n",
    "# portfolio.index=blank_index\n",
    "# len(portfolio.index)\n",
    "# pd.DataFrame(portfolio.iloc[14:17,][['Equity','Option']].values,index=['delta','vega',])\n",
    "\n",
    "asset=pd.DataFrame(portfolio.iloc[14:17,][['Equity','Option']].values,columns=['Equity','Option'],index=['delta','vega','pvo1'])"
   ]
  },
  {
   "cell_type": "code",
   "execution_count": 169,
   "id": "2b506721",
   "metadata": {},
   "outputs": [
    {
     "data": {
      "text/html": [
       "<div>\n",
       "<style scoped>\n",
       "    .dataframe tbody tr th:only-of-type {\n",
       "        vertical-align: middle;\n",
       "    }\n",
       "\n",
       "    .dataframe tbody tr th {\n",
       "        vertical-align: top;\n",
       "    }\n",
       "\n",
       "    .dataframe thead th {\n",
       "        text-align: right;\n",
       "    }\n",
       "</style>\n",
       "<table border=\"1\" class=\"dataframe\">\n",
       "  <thead>\n",
       "    <tr style=\"text-align: right;\">\n",
       "      <th></th>\n",
       "      <th>Equity</th>\n",
       "      <th>Option</th>\n",
       "    </tr>\n",
       "  </thead>\n",
       "  <tbody>\n",
       "    <tr>\n",
       "      <th>delta</th>\n",
       "      <td>541.020148</td>\n",
       "      <td>-437.038982</td>\n",
       "    </tr>\n",
       "    <tr>\n",
       "      <th>vega</th>\n",
       "      <td></td>\n",
       "      <td>-5956.16264</td>\n",
       "    </tr>\n",
       "    <tr>\n",
       "      <th>pvo1</th>\n",
       "      <td></td>\n",
       "      <td>-71.453722</td>\n",
       "    </tr>\n",
       "  </tbody>\n",
       "</table>\n",
       "</div>"
      ],
      "text/plain": [
       "           Equity      Option\n",
       "delta  541.020148 -437.038982\n",
       "vega              -5956.16264\n",
       "pvo1               -71.453722"
      ]
     },
     "execution_count": 169,
     "metadata": {},
     "output_type": "execute_result"
    }
   ],
   "source": [
    "## reducing the values after decimal\n",
    "# asset=asset.style.set_precision(2)\n",
    "asset"
   ]
  },
  {
   "cell_type": "code",
   "execution_count": 170,
   "id": "119a091c",
   "metadata": {},
   "outputs": [
    {
     "data": {
      "text/html": [
       "<div>\n",
       "<style scoped>\n",
       "    .dataframe tbody tr th:only-of-type {\n",
       "        vertical-align: middle;\n",
       "    }\n",
       "\n",
       "    .dataframe tbody tr th {\n",
       "        vertical-align: top;\n",
       "    }\n",
       "\n",
       "    .dataframe thead th {\n",
       "        text-align: right;\n",
       "    }\n",
       "</style>\n",
       "<table border=\"1\" class=\"dataframe\">\n",
       "  <thead>\n",
       "    <tr style=\"text-align: right;\">\n",
       "      <th></th>\n",
       "      <th>Equity</th>\n",
       "      <th>Option</th>\n",
       "      <th>Bond</th>\n",
       "    </tr>\n",
       "  </thead>\n",
       "  <tbody>\n",
       "    <tr>\n",
       "      <th>delta</th>\n",
       "      <td>541.020148</td>\n",
       "      <td>-437.038982</td>\n",
       "      <td>0.00000</td>\n",
       "    </tr>\n",
       "    <tr>\n",
       "      <th>vega</th>\n",
       "      <td></td>\n",
       "      <td>-5956.162640</td>\n",
       "      <td>0.00000</td>\n",
       "    </tr>\n",
       "    <tr>\n",
       "      <th>pvo1</th>\n",
       "      <td></td>\n",
       "      <td>-71.453722</td>\n",
       "      <td>0.00000</td>\n",
       "    </tr>\n",
       "    <tr>\n",
       "      <th>pvo1_5</th>\n",
       "      <td>0.0</td>\n",
       "      <td>0.000000</td>\n",
       "      <td>-240.09633</td>\n",
       "    </tr>\n",
       "  </tbody>\n",
       "</table>\n",
       "</div>"
      ],
      "text/plain": [
       "            Equity       Option       Bond\n",
       "delta   541.020148  -437.038982    0.00000\n",
       "vega               -5956.162640    0.00000\n",
       "pvo1                 -71.453722    0.00000\n",
       "pvo1_5         0.0     0.000000 -240.09633"
      ]
     },
     "execution_count": 170,
     "metadata": {},
     "output_type": "execute_result"
    }
   ],
   "source": [
    "new_row = pd.Series(data={'Equity':0,'Option':0,'Bond':portfolio.iloc[14]['Bond']}, name='pvo1_5')\n",
    "new_row\n",
    "asset=asset.append(new_row).fillna(0)\n",
    "asset.drop_duplicates(inplace=True)\n",
    "asset"
   ]
  },
  {
   "cell_type": "code",
   "execution_count": 171,
   "id": "a7f3346d",
   "metadata": {
    "scrolled": true
   },
   "outputs": [
    {
     "data": {
      "text/html": [
       "<div>\n",
       "<style scoped>\n",
       "    .dataframe tbody tr th:only-of-type {\n",
       "        vertical-align: middle;\n",
       "    }\n",
       "\n",
       "    .dataframe tbody tr th {\n",
       "        vertical-align: top;\n",
       "    }\n",
       "\n",
       "    .dataframe thead th {\n",
       "        text-align: right;\n",
       "    }\n",
       "</style>\n",
       "<table border=\"1\" class=\"dataframe\">\n",
       "  <thead>\n",
       "    <tr style=\"text-align: right;\">\n",
       "      <th></th>\n",
       "      <th>SPX Index</th>\n",
       "      <th>1Y Zero</th>\n",
       "      <th>5Y Yield</th>\n",
       "      <th>SPX Vol</th>\n",
       "    </tr>\n",
       "  </thead>\n",
       "  <tbody>\n",
       "    <tr>\n",
       "      <th>SPX Index</th>\n",
       "      <td>1.000000</td>\n",
       "      <td>0.060013</td>\n",
       "      <td>0.454051</td>\n",
       "      <td>-0.823923</td>\n",
       "    </tr>\n",
       "    <tr>\n",
       "      <th>1Y Zero</th>\n",
       "      <td>0.060013</td>\n",
       "      <td>1.000000</td>\n",
       "      <td>0.017545</td>\n",
       "      <td>-0.077718</td>\n",
       "    </tr>\n",
       "    <tr>\n",
       "      <th>5Y Yield</th>\n",
       "      <td>0.454051</td>\n",
       "      <td>0.017545</td>\n",
       "      <td>1.000000</td>\n",
       "      <td>-0.387608</td>\n",
       "    </tr>\n",
       "    <tr>\n",
       "      <th>SPX Vol</th>\n",
       "      <td>-0.823923</td>\n",
       "      <td>-0.077718</td>\n",
       "      <td>-0.387608</td>\n",
       "      <td>1.000000</td>\n",
       "    </tr>\n",
       "  </tbody>\n",
       "</table>\n",
       "</div>"
      ],
      "text/plain": [
       "           SPX Index   1Y Zero  5Y Yield   SPX Vol\n",
       "SPX Index   1.000000  0.060013  0.454051 -0.823923\n",
       "1Y Zero     0.060013  1.000000  0.017545 -0.077718\n",
       "5Y Yield    0.454051  0.017545  1.000000 -0.387608\n",
       "SPX Vol    -0.823923 -0.077718 -0.387608  1.000000"
      ]
     },
     "execution_count": 171,
     "metadata": {},
     "output_type": "execute_result"
    }
   ],
   "source": [
    "correl_matirx=log_data.corr()\n",
    "correl_matirx"
   ]
  },
  {
   "cell_type": "code",
   "execution_count": 172,
   "id": "2aaf7743",
   "metadata": {},
   "outputs": [
    {
     "data": {
      "text/html": [
       "<div>\n",
       "<style scoped>\n",
       "    .dataframe tbody tr th:only-of-type {\n",
       "        vertical-align: middle;\n",
       "    }\n",
       "\n",
       "    .dataframe tbody tr th {\n",
       "        vertical-align: top;\n",
       "    }\n",
       "\n",
       "    .dataframe thead th {\n",
       "        text-align: right;\n",
       "    }\n",
       "</style>\n",
       "<table border=\"1\" class=\"dataframe\">\n",
       "  <thead>\n",
       "    <tr style=\"text-align: right;\">\n",
       "      <th></th>\n",
       "      <th>SPX Index</th>\n",
       "      <th>1Y Zero</th>\n",
       "      <th>5Y Yield</th>\n",
       "      <th>SPX Vol</th>\n",
       "    </tr>\n",
       "  </thead>\n",
       "  <tbody>\n",
       "    <tr>\n",
       "      <th>price</th>\n",
       "      <td>1848.36</td>\n",
       "      <td>0.3138</td>\n",
       "      <td>1.7411</td>\n",
       "      <td>15.2286</td>\n",
       "    </tr>\n",
       "  </tbody>\n",
       "</table>\n",
       "</div>"
      ],
      "text/plain": [
       "      SPX Index 1Y Zero 5Y Yield  SPX Vol\n",
       "price   1848.36  0.3138   1.7411  15.2286"
      ]
     },
     "execution_count": 172,
     "metadata": {},
     "output_type": "execute_result"
    }
   ],
   "source": [
    "last_traded_price=last_traded_price.reset_index(drop=True,)\n",
    "last_traded_price.index=['price']\n",
    "last_traded_price"
   ]
  },
  {
   "cell_type": "code",
   "execution_count": 173,
   "id": "ed1d06ef",
   "metadata": {},
   "outputs": [
    {
     "data": {
      "text/plain": [
       "Index(['SPX Index', '1Y Zero', '5Y Yield', 'SPX Vol'], dtype='object')"
      ]
     },
     "execution_count": 173,
     "metadata": {},
     "output_type": "execute_result"
    }
   ],
   "source": [
    "volatility.index"
   ]
  },
  {
   "cell_type": "code",
   "execution_count": 174,
   "id": "a1886f1d",
   "metadata": {},
   "outputs": [
    {
     "data": {
      "text/plain": [
       "Index(['SPX Index', '1Y Zero', '5Y Yield', 'SPX Vol'], dtype='object')"
      ]
     },
     "execution_count": 174,
     "metadata": {},
     "output_type": "execute_result"
    }
   ],
   "source": [
    "last_traded_price.T.index"
   ]
  },
  {
   "cell_type": "code",
   "execution_count": 175,
   "id": "af7661bd",
   "metadata": {},
   "outputs": [],
   "source": [
    "risk_factor_info=pd.merge(volatility,last_traded_price.T,on=last_traded_price.T.index)\n",
    "risk_factor_info=risk_factor_info.rename(columns={'key_0':'risk_factor'})\n",
    "risk_factor_info.set_index('risk_factor',inplace=True)"
   ]
  },
  {
   "cell_type": "code",
   "execution_count": 176,
   "id": "1fe9bc44",
   "metadata": {},
   "outputs": [
    {
     "data": {
      "text/html": [
       "<div>\n",
       "<style scoped>\n",
       "    .dataframe tbody tr th:only-of-type {\n",
       "        vertical-align: middle;\n",
       "    }\n",
       "\n",
       "    .dataframe tbody tr th {\n",
       "        vertical-align: top;\n",
       "    }\n",
       "\n",
       "    .dataframe thead th {\n",
       "        text-align: right;\n",
       "    }\n",
       "</style>\n",
       "<table border=\"1\" class=\"dataframe\">\n",
       "  <thead>\n",
       "    <tr style=\"text-align: right;\">\n",
       "      <th></th>\n",
       "      <th>Equity</th>\n",
       "      <th>Option</th>\n",
       "      <th>Bond</th>\n",
       "    </tr>\n",
       "  </thead>\n",
       "  <tbody>\n",
       "    <tr>\n",
       "      <th>SPX Index</th>\n",
       "      <td>541.020148</td>\n",
       "      <td>-437.038982</td>\n",
       "      <td>0.00000</td>\n",
       "    </tr>\n",
       "    <tr>\n",
       "      <th>1Y Zero</th>\n",
       "      <td></td>\n",
       "      <td>-5956.162640</td>\n",
       "      <td>0.00000</td>\n",
       "    </tr>\n",
       "    <tr>\n",
       "      <th>5Y Yield</th>\n",
       "      <td></td>\n",
       "      <td>-71.453722</td>\n",
       "      <td>0.00000</td>\n",
       "    </tr>\n",
       "    <tr>\n",
       "      <th>SPX Vol</th>\n",
       "      <td>0.0</td>\n",
       "      <td>0.000000</td>\n",
       "      <td>-240.09633</td>\n",
       "    </tr>\n",
       "  </tbody>\n",
       "</table>\n",
       "</div>"
      ],
      "text/plain": [
       "               Equity       Option       Bond\n",
       "SPX Index  541.020148  -437.038982    0.00000\n",
       "1Y Zero               -5956.162640    0.00000\n",
       "5Y Yield                -71.453722    0.00000\n",
       "SPX Vol           0.0     0.000000 -240.09633"
      ]
     },
     "execution_count": 176,
     "metadata": {},
     "output_type": "execute_result"
    }
   ],
   "source": [
    "asset.index=['SPX Index', '1Y Zero', '5Y Yield', 'SPX Vol']\n",
    "asset"
   ]
  },
  {
   "cell_type": "code",
   "execution_count": 177,
   "id": "a1ac94d4",
   "metadata": {},
   "outputs": [
    {
     "data": {
      "text/html": [
       "<div>\n",
       "<style scoped>\n",
       "    .dataframe tbody tr th:only-of-type {\n",
       "        vertical-align: middle;\n",
       "    }\n",
       "\n",
       "    .dataframe tbody tr th {\n",
       "        vertical-align: top;\n",
       "    }\n",
       "\n",
       "    .dataframe thead th {\n",
       "        text-align: right;\n",
       "    }\n",
       "</style>\n",
       "<table border=\"1\" class=\"dataframe\">\n",
       "  <thead>\n",
       "    <tr style=\"text-align: right;\">\n",
       "      <th></th>\n",
       "      <th>Equity</th>\n",
       "      <th>Option</th>\n",
       "      <th>Bond</th>\n",
       "    </tr>\n",
       "  </thead>\n",
       "  <tbody>\n",
       "    <tr>\n",
       "      <th>SPX Index</th>\n",
       "      <td>541.020148</td>\n",
       "      <td>-437.038982</td>\n",
       "      <td>0.00000</td>\n",
       "    </tr>\n",
       "    <tr>\n",
       "      <th>1Y Zero</th>\n",
       "      <td>0.000000</td>\n",
       "      <td>-5956.162640</td>\n",
       "      <td>0.00000</td>\n",
       "    </tr>\n",
       "    <tr>\n",
       "      <th>5Y Yield</th>\n",
       "      <td>0.000000</td>\n",
       "      <td>-71.453722</td>\n",
       "      <td>0.00000</td>\n",
       "    </tr>\n",
       "    <tr>\n",
       "      <th>SPX Vol</th>\n",
       "      <td>0.000000</td>\n",
       "      <td>0.000000</td>\n",
       "      <td>-240.09633</td>\n",
       "    </tr>\n",
       "  </tbody>\n",
       "</table>\n",
       "</div>"
      ],
      "text/plain": [
       "               Equity       Option       Bond\n",
       "SPX Index  541.020148  -437.038982    0.00000\n",
       "1Y Zero      0.000000 -5956.162640    0.00000\n",
       "5Y Yield     0.000000   -71.453722    0.00000\n",
       "SPX Vol      0.000000     0.000000 -240.09633"
      ]
     },
     "execution_count": 177,
     "metadata": {},
     "output_type": "execute_result"
    }
   ],
   "source": [
    "asset.T\n",
    "asset=asset.replace(r'', 0)\n",
    "asset"
   ]
  },
  {
   "cell_type": "code",
   "execution_count": 178,
   "id": "c9526012",
   "metadata": {},
   "outputs": [
    {
     "data": {
      "text/html": [
       "<div>\n",
       "<style scoped>\n",
       "    .dataframe tbody tr th:only-of-type {\n",
       "        vertical-align: middle;\n",
       "    }\n",
       "\n",
       "    .dataframe tbody tr th {\n",
       "        vertical-align: top;\n",
       "    }\n",
       "\n",
       "    .dataframe thead th {\n",
       "        text-align: right;\n",
       "    }\n",
       "</style>\n",
       "<table border=\"1\" class=\"dataframe\">\n",
       "  <thead>\n",
       "    <tr style=\"text-align: right;\">\n",
       "      <th>risk_factor</th>\n",
       "      <th>SPX Index</th>\n",
       "      <th>1Y Zero</th>\n",
       "      <th>5Y Yield</th>\n",
       "      <th>SPX Vol</th>\n",
       "    </tr>\n",
       "  </thead>\n",
       "  <tbody>\n",
       "    <tr>\n",
       "      <th>volatility</th>\n",
       "      <td>0.010476</td>\n",
       "      <td>0.028878</td>\n",
       "      <td>0.042588</td>\n",
       "      <td>0.023629</td>\n",
       "    </tr>\n",
       "    <tr>\n",
       "      <th>price</th>\n",
       "      <td>1848.36</td>\n",
       "      <td>0.3138</td>\n",
       "      <td>1.7411</td>\n",
       "      <td>15.2286</td>\n",
       "    </tr>\n",
       "  </tbody>\n",
       "</table>\n",
       "</div>"
      ],
      "text/plain": [
       "risk_factor SPX Index   1Y Zero  5Y Yield   SPX Vol\n",
       "volatility   0.010476  0.028878  0.042588  0.023629\n",
       "price         1848.36    0.3138    1.7411   15.2286"
      ]
     },
     "execution_count": 178,
     "metadata": {},
     "output_type": "execute_result"
    }
   ],
   "source": [
    "risk_factor_info=risk_factor_info.T\n",
    "risk_factor_info"
   ]
  },
  {
   "cell_type": "code",
   "execution_count": 179,
   "id": "6f7f34be",
   "metadata": {},
   "outputs": [
    {
     "data": {
      "text/html": [
       "<div>\n",
       "<style scoped>\n",
       "    .dataframe tbody tr th:only-of-type {\n",
       "        vertical-align: middle;\n",
       "    }\n",
       "\n",
       "    .dataframe tbody tr th {\n",
       "        vertical-align: top;\n",
       "    }\n",
       "\n",
       "    .dataframe thead th {\n",
       "        text-align: right;\n",
       "    }\n",
       "</style>\n",
       "<table border=\"1\" class=\"dataframe\">\n",
       "  <thead>\n",
       "    <tr style=\"text-align: right;\">\n",
       "      <th></th>\n",
       "      <th>Equity</th>\n",
       "      <th>Option</th>\n",
       "      <th>Bond</th>\n",
       "    </tr>\n",
       "  </thead>\n",
       "  <tbody>\n",
       "    <tr>\n",
       "      <th>SPX Index</th>\n",
       "      <td>541.020148</td>\n",
       "      <td>-437.038982</td>\n",
       "      <td>0.00000</td>\n",
       "    </tr>\n",
       "    <tr>\n",
       "      <th>1Y Zero</th>\n",
       "      <td>0.000000</td>\n",
       "      <td>-5956.162640</td>\n",
       "      <td>0.00000</td>\n",
       "    </tr>\n",
       "    <tr>\n",
       "      <th>5Y Yield</th>\n",
       "      <td>0.000000</td>\n",
       "      <td>-71.453722</td>\n",
       "      <td>0.00000</td>\n",
       "    </tr>\n",
       "    <tr>\n",
       "      <th>SPX Vol</th>\n",
       "      <td>0.000000</td>\n",
       "      <td>0.000000</td>\n",
       "      <td>-240.09633</td>\n",
       "    </tr>\n",
       "  </tbody>\n",
       "</table>\n",
       "</div>"
      ],
      "text/plain": [
       "               Equity       Option       Bond\n",
       "SPX Index  541.020148  -437.038982    0.00000\n",
       "1Y Zero      0.000000 -5956.162640    0.00000\n",
       "5Y Yield     0.000000   -71.453722    0.00000\n",
       "SPX Vol      0.000000     0.000000 -240.09633"
      ]
     },
     "execution_count": 179,
     "metadata": {},
     "output_type": "execute_result"
    }
   ],
   "source": [
    "asset"
   ]
  },
  {
   "cell_type": "code",
   "execution_count": 180,
   "id": "38ccc168",
   "metadata": {},
   "outputs": [
    {
     "data": {
      "text/html": [
       "<div>\n",
       "<style scoped>\n",
       "    .dataframe tbody tr th:only-of-type {\n",
       "        vertical-align: middle;\n",
       "    }\n",
       "\n",
       "    .dataframe tbody tr th {\n",
       "        vertical-align: top;\n",
       "    }\n",
       "\n",
       "    .dataframe thead th {\n",
       "        text-align: right;\n",
       "    }\n",
       "</style>\n",
       "<table border=\"1\" class=\"dataframe\">\n",
       "  <thead>\n",
       "    <tr style=\"text-align: right;\">\n",
       "      <th></th>\n",
       "      <th>Equity</th>\n",
       "      <th>Option</th>\n",
       "      <th>Bond</th>\n",
       "    </tr>\n",
       "  </thead>\n",
       "  <tbody>\n",
       "    <tr>\n",
       "      <th>SPX Index</th>\n",
       "      <td>541.020148</td>\n",
       "      <td>-437.038982</td>\n",
       "      <td>0.00000</td>\n",
       "    </tr>\n",
       "    <tr>\n",
       "      <th>1Y Zero</th>\n",
       "      <td>0.000000</td>\n",
       "      <td>-5956.162640</td>\n",
       "      <td>0.00000</td>\n",
       "    </tr>\n",
       "    <tr>\n",
       "      <th>5Y Yield</th>\n",
       "      <td>0.000000</td>\n",
       "      <td>-71.453722</td>\n",
       "      <td>0.00000</td>\n",
       "    </tr>\n",
       "    <tr>\n",
       "      <th>SPX Vol</th>\n",
       "      <td>0.000000</td>\n",
       "      <td>0.000000</td>\n",
       "      <td>-240.09633</td>\n",
       "    </tr>\n",
       "  </tbody>\n",
       "</table>\n",
       "</div>"
      ],
      "text/plain": [
       "               Equity       Option       Bond\n",
       "SPX Index  541.020148  -437.038982    0.00000\n",
       "1Y Zero      0.000000 -5956.162640    0.00000\n",
       "5Y Yield     0.000000   -71.453722    0.00000\n",
       "SPX Vol      0.000000     0.000000 -240.09633"
      ]
     },
     "execution_count": 180,
     "metadata": {},
     "output_type": "execute_result"
    }
   ],
   "source": [
    "asset"
   ]
  },
  {
   "cell_type": "code",
   "execution_count": 181,
   "id": "23a0f614",
   "metadata": {},
   "outputs": [
    {
     "data": {
      "text/html": [
       "<div>\n",
       "<style scoped>\n",
       "    .dataframe tbody tr th:only-of-type {\n",
       "        vertical-align: middle;\n",
       "    }\n",
       "\n",
       "    .dataframe tbody tr th {\n",
       "        vertical-align: top;\n",
       "    }\n",
       "\n",
       "    .dataframe thead th {\n",
       "        text-align: right;\n",
       "    }\n",
       "</style>\n",
       "<table border=\"1\" class=\"dataframe\">\n",
       "  <thead>\n",
       "    <tr style=\"text-align: right;\">\n",
       "      <th></th>\n",
       "      <th>0</th>\n",
       "      <th>1</th>\n",
       "      <th>2</th>\n",
       "      <th>3</th>\n",
       "    </tr>\n",
       "  </thead>\n",
       "  <tbody>\n",
       "    <tr>\n",
       "      <th>volatility</th>\n",
       "      <td>0.012077</td>\n",
       "      <td>0.028418</td>\n",
       "      <td>0.038692</td>\n",
       "      <td>-0.003754</td>\n",
       "    </tr>\n",
       "    <tr>\n",
       "      <th>price</th>\n",
       "      <td>1836.622181</td>\n",
       "      <td>110.08613</td>\n",
       "      <td>835.092855</td>\n",
       "      <td>-1508.377491</td>\n",
       "    </tr>\n",
       "  </tbody>\n",
       "</table>\n",
       "</div>"
      ],
      "text/plain": [
       "                      0          1           2            3\n",
       "volatility     0.012077   0.028418    0.038692    -0.003754\n",
       "price       1836.622181  110.08613  835.092855 -1508.377491"
      ]
     },
     "execution_count": 181,
     "metadata": {},
     "output_type": "execute_result"
    }
   ],
   "source": [
    "np.matmul(risk_factor_info,correl_matirx)"
   ]
  },
  {
   "cell_type": "code",
   "execution_count": 182,
   "id": "02a68bed",
   "metadata": {},
   "outputs": [
    {
     "data": {
      "text/plain": [
       "risk_factor\n",
       "SPX Index    19.362785\n",
       "1Y Zero       0.009062\n",
       "5Y Yield       0.07415\n",
       "SPX Vol       0.359839\n",
       "dtype: object"
      ]
     },
     "execution_count": 182,
     "metadata": {},
     "output_type": "execute_result"
    }
   ],
   "source": [
    "risk_factor_info.iloc[0,:]*risk_factor_info.iloc[1,:]"
   ]
  },
  {
   "cell_type": "code",
   "execution_count": 183,
   "id": "fd7ac9d4",
   "metadata": {},
   "outputs": [
    {
     "data": {
      "text/plain": [
       "(4,)"
      ]
     },
     "execution_count": 183,
     "metadata": {},
     "output_type": "execute_result"
    }
   ],
   "source": [
    "(risk_factor_info.iloc[0,:]*risk_factor_info.iloc[1,:]).shape"
   ]
  },
  {
   "cell_type": "code",
   "execution_count": 184,
   "id": "dfb7418f",
   "metadata": {},
   "outputs": [],
   "source": [
    "##ASSET TABLE TO BE REMADE \n",
    "risk_factor=asset.T*(risk_factor_info.iloc[0,:]*risk_factor_info.iloc[1,:])"
   ]
  },
  {
   "cell_type": "code",
   "execution_count": 185,
   "id": "665cba23",
   "metadata": {},
   "outputs": [
    {
     "data": {
      "text/html": [
       "<div>\n",
       "<style scoped>\n",
       "    .dataframe tbody tr th:only-of-type {\n",
       "        vertical-align: middle;\n",
       "    }\n",
       "\n",
       "    .dataframe tbody tr th {\n",
       "        vertical-align: top;\n",
       "    }\n",
       "\n",
       "    .dataframe thead th {\n",
       "        text-align: right;\n",
       "    }\n",
       "</style>\n",
       "<table border=\"1\" class=\"dataframe\">\n",
       "  <thead>\n",
       "    <tr style=\"text-align: right;\">\n",
       "      <th></th>\n",
       "      <th>0</th>\n",
       "      <th>1</th>\n",
       "      <th>2</th>\n",
       "    </tr>\n",
       "  </thead>\n",
       "  <tbody>\n",
       "    <tr>\n",
       "      <th>Equity</th>\n",
       "      <td>109739387.751351</td>\n",
       "      <td>-88707200.919981</td>\n",
       "      <td>745695.257909</td>\n",
       "    </tr>\n",
       "    <tr>\n",
       "      <th>Option</th>\n",
       "      <td>-88707200.919981</td>\n",
       "      <td>71708873.601815</td>\n",
       "      <td>-602916.478516</td>\n",
       "    </tr>\n",
       "    <tr>\n",
       "      <th>Bond</th>\n",
       "      <td>745695.257909</td>\n",
       "      <td>-602916.478516</td>\n",
       "      <td>7464.25863</td>\n",
       "    </tr>\n",
       "  </tbody>\n",
       "</table>\n",
       "</div>"
      ],
      "text/plain": [
       "                       0                1              2\n",
       "Equity  109739387.751351 -88707200.919981  745695.257909\n",
       "Option  -88707200.919981  71708873.601815 -602916.478516\n",
       "Bond       745695.257909   -602916.478516     7464.25863"
      ]
     },
     "execution_count": 185,
     "metadata": {},
     "output_type": "execute_result"
    }
   ],
   "source": [
    "asset_var_covar=np.matmul(np.matmul(risk_factor,correl_matirx),risk_factor.T)\n",
    "asset_var_covar"
   ]
  },
  {
   "cell_type": "code",
   "execution_count": 186,
   "id": "1ecdf4f4",
   "metadata": {},
   "outputs": [
    {
     "data": {
      "text/plain": [
       "array([109739387.75135088, 71708873.60181469, 7464.2586299637815],\n",
       "      dtype=object)"
      ]
     },
     "execution_count": 186,
     "metadata": {},
     "output_type": "execute_result"
    }
   ],
   "source": [
    "# asset_var_covar.columns=['Equity','Option','Bond']\n",
    "asset_var_covar.columns=asset_var_covar.index\n",
    "asset_vol=np.array(asset_var_covar).diagonal()\n",
    "asset_vol"
   ]
  },
  {
   "cell_type": "code",
   "execution_count": 187,
   "id": "d0d6e723",
   "metadata": {},
   "outputs": [
    {
     "data": {
      "text/plain": [
       "4326881.330619224"
      ]
     },
     "execution_count": 187,
     "metadata": {},
     "output_type": "execute_result"
    }
   ],
   "source": [
    "# asset_var_covar.drop(['columns'],axis=1,inplace=True)\n",
    "portfolio_vol=np.matmul(np.matmul(risk_factor.sum(),correl_matirx),risk_factor.sum().T)\n",
    "portfolio_vol"
   ]
  },
  {
   "cell_type": "code",
   "execution_count": 188,
   "id": "dfd47fa7",
   "metadata": {},
   "outputs": [
    {
     "data": {
      "text/plain": [
       "Equity         0.0\n",
       "Option        -0.0\n",
       "Bond      0.000005\n",
       "dtype: object"
      ]
     },
     "execution_count": 188,
     "metadata": {},
     "output_type": "execute_result"
    }
   ],
   "source": [
    "# asset_var_covar.sum(axis=1) # columns\n",
    "correl_asset=asset_var_covar.sum(axis=0)/(asset_vol*portfolio_vol)   # row\n",
    "correl_asset"
   ]
  },
  {
   "cell_type": "markdown",
   "id": "27f11625",
   "metadata": {},
   "source": []
  },
  {
   "cell_type": "code",
   "execution_count": 189,
   "id": "2086cb46",
   "metadata": {},
   "outputs": [
    {
     "data": {
      "text/plain": [
       "[109739387.75135088, 71708873.60181469, 7464.2586299637815]"
      ]
     },
     "execution_count": 189,
     "metadata": {},
     "output_type": "execute_result"
    }
   ],
   "source": [
    "individual_var=[np.percentile(asset_vol[i],100-97.5) for i in range(3) ]\n",
    "individual_var"
   ]
  },
  {
   "cell_type": "code",
   "execution_count": 190,
   "id": "1947fff0",
   "metadata": {},
   "outputs": [
    {
     "data": {
      "text/plain": [
       "Equity    5.033159\n",
       "Option   -4.067882\n",
       "Bond      0.034723\n",
       "dtype: object"
      ]
     },
     "execution_count": 190,
     "metadata": {},
     "output_type": "execute_result"
    }
   ],
   "source": [
    "#component var\n",
    "individual_var*correl_asset"
   ]
  },
  {
   "cell_type": "code",
   "execution_count": 191,
   "id": "345ea4a2",
   "metadata": {},
   "outputs": [
    {
     "data": {
      "text/html": [
       "<div>\n",
       "<style scoped>\n",
       "    .dataframe tbody tr th:only-of-type {\n",
       "        vertical-align: middle;\n",
       "    }\n",
       "\n",
       "    .dataframe tbody tr th {\n",
       "        vertical-align: top;\n",
       "    }\n",
       "\n",
       "    .dataframe thead th {\n",
       "        text-align: right;\n",
       "    }\n",
       "</style>\n",
       "<table border=\"1\" class=\"dataframe\">\n",
       "  <thead>\n",
       "    <tr style=\"text-align: right;\">\n",
       "      <th></th>\n",
       "      <th>Equity</th>\n",
       "      <th>Option</th>\n",
       "      <th>Bond</th>\n",
       "    </tr>\n",
       "  </thead>\n",
       "  <tbody>\n",
       "    <tr>\n",
       "      <th>Option</th>\n",
       "      <td>-88707200.919981</td>\n",
       "      <td>71708873.601815</td>\n",
       "      <td>-602916.478516</td>\n",
       "    </tr>\n",
       "    <tr>\n",
       "      <th>Bond</th>\n",
       "      <td>745695.257909</td>\n",
       "      <td>-602916.478516</td>\n",
       "      <td>7464.25863</td>\n",
       "    </tr>\n",
       "  </tbody>\n",
       "</table>\n",
       "</div>"
      ],
      "text/plain": [
       "                 Equity           Option           Bond\n",
       "Option -88707200.919981  71708873.601815 -602916.478516\n",
       "Bond      745695.257909   -602916.478516     7464.25863"
      ]
     },
     "execution_count": 191,
     "metadata": {},
     "output_type": "execute_result"
    }
   ],
   "source": [
    "#increment var\n",
    "\n",
    "asset_var_covar['Option':'Bond']['Option':'Bond']"
   ]
  },
  {
   "cell_type": "code",
   "execution_count": 192,
   "id": "ca6e868a",
   "metadata": {},
   "outputs": [
    {
     "data": {
      "text/plain": [
       "4326881.330619224"
      ]
     },
     "execution_count": 192,
     "metadata": {},
     "output_type": "execute_result"
    }
   ],
   "source": [
    "#diversified var\n",
    "portfolio_var=np.percentile(portfolio_vol,100-97.5)\n",
    "portfolio_var"
   ]
  },
  {
   "cell_type": "code",
   "execution_count": 193,
   "id": "7afd2166",
   "metadata": {},
   "outputs": [],
   "source": [
    "#undiversified var\n",
    "undiversified_var=sum(individual_var)"
   ]
  },
  {
   "cell_type": "code",
   "execution_count": 194,
   "id": "f05fd446",
   "metadata": {},
   "outputs": [
    {
     "data": {
      "text/plain": [
       "41.936838971691245"
      ]
     },
     "execution_count": 194,
     "metadata": {},
     "output_type": "execute_result"
    }
   ],
   "source": [
    "#diversification ratio\n",
    "diversification_ratio=undiversified_var/portfolio_var\n",
    "diversification_ratio"
   ]
  },
  {
   "cell_type": "code",
   "execution_count": null,
   "id": "1d51ddbf",
   "metadata": {},
   "outputs": [],
   "source": []
  },
  {
   "cell_type": "code",
   "execution_count": null,
   "id": "0d3d16f9",
   "metadata": {},
   "outputs": [],
   "source": []
  },
  {
   "cell_type": "code",
   "execution_count": 195,
   "id": "684384fb",
   "metadata": {},
   "outputs": [],
   "source": [
    "# simulated_distribution = pd.Series(\n",
    "#             np.random.normal(\n",
    "#                 Statistics(\n",
    "#                     array=self.array,\n",
    "#                     axis=self.axis\n",
    "#                     ).mean(),\n",
    "#                 Statistics(\n",
    "#                     array=self.array,\n",
    "#                     axis=self.axis\n",
    "#                     ).std(),\n",
    "#                 n_iter\n",
    "#                 )\n",
    "#             )\n",
    "        \n",
    "#         var = simulated_distribution.sort_values(ascending=True).quantile(self.alpha)\n"
   ]
  },
  {
   "cell_type": "code",
   "execution_count": 196,
   "id": "fc2779fb",
   "metadata": {},
   "outputs": [],
   "source": [
    "# array_sorted = -self.array.sort_values(ascending=False).values\n",
    "# x1 = max(array_sorted[:self.array.shape[self.axis]-k+1])\n",
    "# x2 = max(array_sorted[:self.array.shape[self.axis]-(2*k)+1])\n",
    "# x4 = max(array_sorted[:self.array.shape[self.axis]-(4*k)+1])\n",
    "# xi = ((1/np.log(2)) * (np.log((x1-x2)/(x2-x4))))\n",
    "\n",
    "# var = ((((((k/(self.array.shape[self.axis]*self.alpha))**xi)-1)\\\n",
    "#          / (1-2**(-xi))) * (x1-x2)) + x1)"
   ]
  },
  {
   "cell_type": "markdown",
   "id": "85d1b719",
   "metadata": {},
   "source": [
    "Historical Simulation"
   ]
  },
  {
   "cell_type": "code",
   "execution_count": 197,
   "id": "270e1e8f",
   "metadata": {},
   "outputs": [],
   "source": [
    "# sim=pd.DataFrame(dict(enumerate(data[['SPX Index','1Y Zero','5Y Yield','SPX Vol']].values,start=1)),)\n",
    "# # for i in data.iterrows():   \n",
    "# #     return i   \n",
    "# #     print()  \n",
    "# sim.T\n",
    "# his_sim=sim.T\n",
    "\n",
    "# his_sim.columns=data.columns\n",
    "# his_sim.iloc[:500]"
   ]
  },
  {
   "cell_type": "code",
   "execution_count": 198,
   "id": "678ab209",
   "metadata": {},
   "outputs": [
    {
     "data": {
      "text/html": [
       "<div>\n",
       "<style scoped>\n",
       "    .dataframe tbody tr th:only-of-type {\n",
       "        vertical-align: middle;\n",
       "    }\n",
       "\n",
       "    .dataframe tbody tr th {\n",
       "        vertical-align: top;\n",
       "    }\n",
       "\n",
       "    .dataframe thead th {\n",
       "        text-align: right;\n",
       "    }\n",
       "</style>\n",
       "<table border=\"1\" class=\"dataframe\">\n",
       "  <thead>\n",
       "    <tr style=\"text-align: right;\">\n",
       "      <th></th>\n",
       "      <th>SPX Index</th>\n",
       "      <th>1Y Zero</th>\n",
       "      <th>5Y Yield</th>\n",
       "      <th>SPX Vol</th>\n",
       "    </tr>\n",
       "  </thead>\n",
       "  <tbody>\n",
       "    <tr>\n",
       "      <th>1</th>\n",
       "      <td>NaN</td>\n",
       "      <td>NaN</td>\n",
       "      <td>NaN</td>\n",
       "      <td>NaN</td>\n",
       "    </tr>\n",
       "    <tr>\n",
       "      <th>2</th>\n",
       "      <td>1841.07</td>\n",
       "      <td>0.3083</td>\n",
       "      <td>1.7029</td>\n",
       "      <td>15.1324</td>\n",
       "    </tr>\n",
       "    <tr>\n",
       "      <th>3</th>\n",
       "      <td>1848.691307</td>\n",
       "      <td>0.313118</td>\n",
       "      <td>1.773102</td>\n",
       "      <td>15.024913</td>\n",
       "    </tr>\n",
       "    <tr>\n",
       "      <th>4</th>\n",
       "      <td>1848.982343</td>\n",
       "      <td>0.323266</td>\n",
       "      <td>1.749433</td>\n",
       "      <td>15.316116</td>\n",
       "    </tr>\n",
       "    <tr>\n",
       "      <th>5</th>\n",
       "      <td>1839.630056</td>\n",
       "      <td>0.313651</td>\n",
       "      <td>1.731208</td>\n",
       "      <td>15.320383</td>\n",
       "    </tr>\n",
       "    <tr>\n",
       "      <th>...</th>\n",
       "      <td>...</td>\n",
       "      <td>...</td>\n",
       "      <td>...</td>\n",
       "      <td>...</td>\n",
       "    </tr>\n",
       "    <tr>\n",
       "      <th>496</th>\n",
       "      <td>1844.051202</td>\n",
       "      <td>0.304954</td>\n",
       "      <td>1.714298</td>\n",
       "      <td>15.19068</td>\n",
       "    </tr>\n",
       "    <tr>\n",
       "      <th>497</th>\n",
       "      <td>1847.787965</td>\n",
       "      <td>0.297399</td>\n",
       "      <td>1.812981</td>\n",
       "      <td>15.125358</td>\n",
       "    </tr>\n",
       "    <tr>\n",
       "      <th>498</th>\n",
       "      <td>1832.080562</td>\n",
       "      <td>0.307836</td>\n",
       "      <td>1.724557</td>\n",
       "      <td>15.534108</td>\n",
       "    </tr>\n",
       "    <tr>\n",
       "      <th>499</th>\n",
       "      <td>1844.189031</td>\n",
       "      <td>0.325071</td>\n",
       "      <td>1.761101</td>\n",
       "      <td>15.266864</td>\n",
       "    </tr>\n",
       "    <tr>\n",
       "      <th>500</th>\n",
       "      <td>1853.061145</td>\n",
       "      <td>0.327612</td>\n",
       "      <td>1.796752</td>\n",
       "      <td>15.42072</td>\n",
       "    </tr>\n",
       "  </tbody>\n",
       "</table>\n",
       "<p>500 rows × 4 columns</p>\n",
       "</div>"
      ],
      "text/plain": [
       "       SPX Index   1Y Zero  5Y Yield    SPX Vol\n",
       "1            NaN       NaN       NaN        NaN\n",
       "2        1841.07    0.3083    1.7029    15.1324\n",
       "3    1848.691307  0.313118  1.773102  15.024913\n",
       "4    1848.982343  0.323266  1.749433  15.316116\n",
       "5    1839.630056  0.313651  1.731208  15.320383\n",
       "..           ...       ...       ...        ...\n",
       "496  1844.051202  0.304954  1.714298   15.19068\n",
       "497  1847.787965  0.297399  1.812981  15.125358\n",
       "498  1832.080562  0.307836  1.724557  15.534108\n",
       "499  1844.189031  0.325071  1.761101  15.266864\n",
       "500  1853.061145  0.327612  1.796752   15.42072\n",
       "\n",
       "[500 rows x 4 columns]"
      ]
     },
     "execution_count": 198,
     "metadata": {},
     "output_type": "execute_result"
    }
   ],
   "source": [
    "his_sim=pd.DataFrame(dict(\n",
    "    (enumerate(\n",
    "        np.exp(log_data[['SPX Index', '1Y Zero', '5Y Yield', 'SPX Vol']].values)*data.head(1).values,start=1\n",
    "    ))),).T\n",
    "\n",
    "\n",
    "# his_sim=\n",
    "\n",
    "his_sim.columns=data.columns\n",
    "his_sim.iloc[:500]"
   ]
  },
  {
   "cell_type": "code",
   "execution_count": 199,
   "id": "12611645",
   "metadata": {
    "scrolled": false
   },
   "outputs": [
    {
     "data": {
      "text/plain": [
       "-1082.740538517211"
      ]
     },
     "execution_count": 199,
     "metadata": {},
     "output_type": "execute_result"
    }
   ],
   "source": [
    "# Full revaluation \n",
    "\n",
    "#asset = Equity\n",
    "full_rev_hvar=pd.DataFrame((his_sim['SPX Index'].values*portfolio.iloc[[4,14]][['Equity']].values[1]/portfolio.iloc[[4,14]][['Equity']].values[0])-portfolio.iloc[[4,14]][['Equity']].values[1],columns=['Equity'])\n",
    "\n",
    "hvar=np.percentile(full_rev_hvar,100-97.5)\n",
    "hvar*100\n",
    "#asset = Bond\n",
    "\n",
    "# bond_price(settlement_date, maturity_date, coupon_rate, ytm=his_sim.iloc[:500]['5Y Yield'].fillna(0)/100, redemption_value, coupon_frequency, day_count_basis)\n",
    "\n",
    "# #asset = Options\n",
    "# T=float(portfolio.iloc[5][['Option']].values[0])\n",
    "# X=float(portfolio.iloc[8][['Option']].values[0])\n",
    "# S=float(portfolio.iloc[10][['Option']].values)\n",
    "# sigma=float(portfolio.iloc[9][['Option']].values[0])\n",
    "# r=float(portfolio.iloc[6][['Option']].values[0])\n",
    "\n",
    "# black_scholes_call_option(S, X, T, r, sigma)\n"
   ]
  },
  {
   "cell_type": "code",
   "execution_count": 200,
   "id": "9b32860d",
   "metadata": {},
   "outputs": [
    {
     "data": {
      "text/plain": [
       "array([ 0.        , 15.1324    , 15.0249133 , 15.316116  , 15.32038254,\n",
       "       15.40713379, 15.46684269, 15.41598364, 15.14137729, 15.7536838 ,\n",
       "       15.15001755, 15.03472394, 15.20077925, 15.21668246, 14.80259894,\n",
       "       15.14340185, 15.26362726, 15.79549401, 15.26277124, 15.29287383,\n",
       "       14.9674497 , 15.16764032, 15.09093803, 15.14066125, 15.34949086,\n",
       "       15.16755451, 15.39410584, 15.62504148, 15.19299216, 15.2201518 ,\n",
       "       15.06476583, 15.14603206, 15.39029214, 15.22793137, 14.92770371,\n",
       "       15.25598291, 15.50884398, 14.88503096, 15.30579887, 15.07041134,\n",
       "       15.33559182, 15.14742815, 15.27519044, 15.08172548, 15.25841896,\n",
       "       15.15715465, 15.16424362, 15.38540112, 14.99121902, 15.29758279,\n",
       "       15.12897625, 15.36915196, 15.7957913 , 15.81944633, 14.80141724,\n",
       "       15.45968247, 15.54716769, 15.99315314, 15.4187866 , 14.73964653,\n",
       "       14.73995473, 15.34345003, 14.93246201, 15.06384141, 15.52076215,\n",
       "       14.86423444, 15.11716799, 15.24657957, 15.22945516, 15.32741298,\n",
       "       15.08652807, 15.00886373, 15.10455443, 15.44285667, 15.2575338 ,\n",
       "       15.42106226, 15.29359567, 15.18199445, 15.489692  , 15.55367379,\n",
       "       15.4273654 , 15.39908752, 15.34775823, 15.35274476, 15.31436978,\n",
       "       15.23860845, 14.81774021, 15.25979516, 14.45236698, 15.087329  ,\n",
       "       15.30373925, 15.31451035, 15.19855924, 15.4140921 , 15.08232663,\n",
       "       15.3126737 , 14.67560302, 15.06146557, 15.39406441, 15.09338964,\n",
       "       15.0968691 , 15.41214837, 15.11327609, 14.93642177, 15.30875211,\n",
       "       15.36367733, 15.3329886 , 15.44036557, 15.29006956, 15.21339065,\n",
       "       15.26964848, 15.38101285, 14.98197991, 15.21061141, 15.3740345 ,\n",
       "       15.34925638, 15.36572173, 15.44928111, 14.99210709, 15.35975974,\n",
       "       15.08573416, 15.48764573, 15.20258044, 15.70501445, 15.53115915,\n",
       "       15.50968838, 15.40109631, 15.15848389, 15.31837702, 15.25803562,\n",
       "       15.38945554, 15.49050009, 15.51815196, 14.72473595, 15.65685046,\n",
       "       13.98334897, 15.42836222, 15.49704197, 15.33538536, 15.17450057,\n",
       "       15.67913083, 14.70287554, 14.79984619, 15.23254386, 15.64017894,\n",
       "       15.25948718, 15.06576918, 15.13591872, 14.89988249, 14.87688184,\n",
       "       15.30355293, 15.13557516, 15.41755564, 15.28357491, 15.35970002,\n",
       "       14.8708806 , 15.04784785, 15.0801976 , 15.25843994, 15.19768388,\n",
       "       14.98749424, 15.18268346, 15.10858561, 15.07366789, 14.91171644,\n",
       "       15.08069785, 15.26966438, 15.23112802, 15.46862109, 15.53218262,\n",
       "       14.89816084, 15.31398973, 15.38463867, 15.29900368, 15.20054858,\n",
       "       15.37910385, 15.7613106 , 15.51433943, 15.73732045, 14.81409889,\n",
       "       14.52962578, 15.6704992 , 14.43177794, 15.08653024, 15.31533929,\n",
       "       15.49356106, 15.54761446, 15.55037916, 15.13695729, 14.89285119,\n",
       "       14.96012856, 15.41196207, 14.95009027, 15.23673928, 15.14401627,\n",
       "       15.45370806, 15.22471508, 15.13786394, 14.94606223, 15.83920978,\n",
       "       14.7489485 , 14.83160896, 15.03555026, 15.51952819, 15.24675739,\n",
       "       15.03505111, 15.42066048, 15.32575215, 15.39623667, 15.30754367,\n",
       "       15.50185198, 15.42491695, 14.96625709, 15.21119288, 16.04883894,\n",
       "       15.01769215, 14.62324439, 15.40673967, 14.86766506, 14.85840897,\n",
       "       15.47864083, 15.06815113, 15.39669609, 15.10475058, 15.31251243,\n",
       "       15.28430161, 15.55622083, 15.11059337, 15.09701359, 15.50030244,\n",
       "       14.7980927 , 15.59937756, 14.95006796, 14.98269492, 15.4492076 ,\n",
       "       15.1747591 , 15.40480414, 15.13848877, 15.71278363, 15.90645747,\n",
       "       15.41547098, 15.40964855, 15.32729972, 15.28009487, 15.1250648 ,\n",
       "       15.22904933, 15.5627099 , 15.10144805, 15.17530695, 15.08177414,\n",
       "       15.56132073, 15.3403597 , 16.30235335, 15.77280182, 15.03414376,\n",
       "       15.09135799, 15.03506793, 15.0714554 , 14.89069179, 15.33093369,\n",
       "       14.84031977, 15.72036027, 15.42071439, 15.15345078, 14.82812756,\n",
       "       15.10823122, 15.16460387, 15.26480872, 15.39782949, 15.13166618,\n",
       "       15.48522446, 15.10048705, 15.14325542, 15.0473466 , 15.31967335,\n",
       "       15.31887547, 15.20760887, 15.0275899 , 15.53811528, 15.27136818,\n",
       "       15.36851375, 15.90726778, 15.61981907, 15.06942146, 15.01763872,\n",
       "       15.29530171, 15.40588113, 15.15037439, 15.07552929, 14.59086196,\n",
       "       15.63151666, 14.88282197, 15.23707155, 15.70050157, 15.1447857 ,\n",
       "       15.31085418, 15.39053357, 15.10207346, 14.91340971, 15.0883898 ,\n",
       "       14.71082263, 15.12316549, 15.38163954, 15.43745914, 15.53773441,\n",
       "       15.28618926, 15.51875402, 15.1391022 , 15.01645181, 15.13557085,\n",
       "       15.39789418, 15.51115319, 15.3954784 , 15.17381571, 15.1493235 ,\n",
       "       15.12280009, 15.70200367, 14.75966196, 14.95272308, 15.41442724,\n",
       "       15.23356842, 15.06958114, 15.51247312, 15.37739   , 15.04397212,\n",
       "       15.0095586 , 16.04204847, 15.4663982 , 15.18897478, 15.42678099,\n",
       "       15.50510361, 15.71695312, 15.66221494, 15.36545626, 15.21479929,\n",
       "       14.96663694, 14.99151049, 15.26249053, 15.1529833 , 15.52505633,\n",
       "       14.95503956, 15.03244208, 14.87630798, 15.09625489, 15.3676964 ,\n",
       "       15.16458534, 15.13965378, 15.00050377, 15.23051947, 15.28702125,\n",
       "       15.38728701, 15.2064994 , 15.0551007 , 15.43507364, 15.68042686,\n",
       "       15.03972099, 15.3598945 , 15.1139157 , 15.014434  , 15.69092922,\n",
       "       15.69076655, 15.45010794, 14.63238518, 14.71442291, 14.8837614 ,\n",
       "       15.2773404 , 15.28041365, 15.58922293, 15.24274511, 15.80150629,\n",
       "       15.39902531, 15.20415648, 15.00554223, 15.2168648 , 15.00096446,\n",
       "       14.96262589, 15.5127098 , 15.40588537, 16.24779895, 14.99615325,\n",
       "       15.30539228, 15.44983607, 14.86241665, 15.71517828, 14.64053967,\n",
       "       15.07962152, 15.74463182, 15.59554679, 15.7599538 , 15.72867019,\n",
       "       14.69509251, 15.23514484, 14.92397489, 15.13263059, 15.69419658,\n",
       "       15.79378156, 15.52768198, 15.25325706, 14.23440648, 15.24776572,\n",
       "       14.88079526, 15.73051875, 15.09165935, 15.22983668, 14.9622788 ,\n",
       "       15.25065853, 15.82278971, 14.74731487, 14.91035414, 15.0260972 ,\n",
       "       14.61678309, 14.64753648, 15.06776825, 15.52680415, 14.79671615,\n",
       "       15.077078  , 15.31473041, 14.6705415 , 15.06349271, 15.08625293,\n",
       "       15.48189796, 15.01163318, 15.35090589, 15.7239839 , 15.87313473,\n",
       "       15.39719098, 14.9014421 , 15.44973338, 14.88870731, 15.08724449,\n",
       "       15.8538937 , 15.11139652, 14.92459951, 15.68435674, 15.34822959,\n",
       "       14.12488933, 14.77836813, 15.1246557 , 14.85008855, 14.82556873,\n",
       "       15.4851569 , 15.38509166, 15.31187418, 14.92138889, 15.17761578,\n",
       "       15.73620037, 15.75198898, 15.01700639, 15.60729937, 15.15008681,\n",
       "       15.56949089, 15.293616  , 15.40276402, 14.8670967 , 15.7643865 ,\n",
       "       15.40241862, 15.48114873, 15.72139456, 15.54556673, 14.47602384,\n",
       "       14.97133885, 15.26256265, 15.32577724, 15.27826832, 15.07061489,\n",
       "       15.22624584, 15.20866015, 15.66188413, 15.24686744, 15.2017683 ,\n",
       "       15.25934964, 15.90802093, 14.97030127, 14.56996993, 15.77000309,\n",
       "       14.33342864, 14.94877455, 15.06985936, 15.45606929, 15.18215425,\n",
       "       15.68756243, 15.36914377, 15.50901777, 15.1377267 , 15.02568776,\n",
       "       15.42942217, 14.99665865, 15.57004679, 15.16869544, 15.57331315,\n",
       "       15.44531632, 15.43310908, 15.54818941, 15.36242559, 14.85510345,\n",
       "       15.19067957, 15.12535757, 15.53410821, 15.26686417, 15.42072034,\n",
       "       15.40788983, 15.54838115, 15.53144349, 15.22746424, 15.43746942,\n",
       "       14.83027016, 15.38303246, 15.25498735, 15.46624386, 15.58730124,\n",
       "       16.18356261, 15.26674026, 15.30001276, 15.38733652, 15.08577253,\n",
       "       15.15288012, 14.83345911, 15.85559287, 14.93593147, 14.96503998,\n",
       "       15.32435719, 15.2556061 , 15.25937642, 15.52627513, 16.10252205,\n",
       "       15.60813414, 15.83241645, 14.97997082, 14.78531938, 15.39568297,\n",
       "       14.98816513, 15.39863643, 14.46893005, 14.67187301, 15.34339332,\n",
       "       14.95326306, 15.749966  , 15.53719615, 13.93252448, 15.50266742,\n",
       "       15.37193837, 15.00468082, 15.67555803, 15.53101126, 13.77885754,\n",
       "       14.5047883 , 15.27660596, 16.84688372, 15.47278823, 15.04949316,\n",
       "       15.93561744, 15.76466052, 15.20289777, 14.52793795, 15.39785338,\n",
       "       14.78255596, 15.87258703, 15.03754966, 16.10380496, 15.51064952,\n",
       "       15.6280279 , 15.42486334, 15.38534106, 16.26403859, 15.17552164,\n",
       "       14.4073064 , 14.86348736, 14.94954427, 14.73398453, 15.7511137 ,\n",
       "       15.42025741, 15.50267024, 13.70748886, 14.92605753, 15.28478448,\n",
       "       14.99690092, 15.39947222, 15.40426274, 15.6364199 , 15.73626365,\n",
       "       14.86418772, 14.21068783, 14.98873206, 15.70988814, 15.02752733,\n",
       "       14.69379423, 15.16911961, 15.13927034, 15.20159453, 16.01230056,\n",
       "       15.50343095, 14.69259199, 15.33802095, 15.91607234, 15.25203428,\n",
       "       14.89344757, 13.58963629, 15.36616207, 15.14446094, 16.12778276,\n",
       "       15.28992862, 15.98893219, 14.93924885, 15.86399143, 14.06335843,\n",
       "       14.2476912 , 13.80856417, 15.04212938, 14.58486706, 15.60010817,\n",
       "       15.2296282 , 15.15802616, 14.59667574, 15.11814241, 14.90023365,\n",
       "       15.33312422, 15.70492171, 15.23653705, 15.83699342, 14.85423325,\n",
       "       15.41621472, 14.92932127, 15.08577315, 15.03569833, 14.47428552,\n",
       "       14.91887681, 15.53418702, 15.08888508, 15.22991707, 15.96206118,\n",
       "       15.66379933, 15.55543593, 15.47636839, 15.60882776, 14.78071477,\n",
       "       14.81416101, 15.06232087, 15.72211055, 15.56856464, 15.2919342 ,\n",
       "       14.73482682, 14.42644407, 15.60270489, 15.10223087, 14.88282805,\n",
       "       15.64389504, 15.00390201, 15.4580796 , 14.95833588, 15.02590981,\n",
       "       15.23059985, 14.75949734, 15.4568656 , 15.46520277, 15.63035552,\n",
       "       15.38936826, 15.33018215, 14.81737267, 15.03174095, 15.24376936,\n",
       "       15.72685626, 15.17677708, 15.09887156, 15.02889629, 15.35017282,\n",
       "       14.79023972, 15.56636612, 15.41309076, 15.52247278, 14.7725836 ,\n",
       "       15.13638454, 14.85725224, 14.96141727, 15.20411085, 15.46665211,\n",
       "       15.32618669, 15.41748716, 15.21823483, 15.31929668, 15.61018023,\n",
       "       15.48747708, 15.00694226, 15.35954433, 15.26285052, 15.40016102,\n",
       "       15.04547868, 15.29785593, 14.94186406, 14.92244918, 15.20993545,\n",
       "       15.3598115 , 15.31221272, 15.21560685, 15.21898474, 15.43553754,\n",
       "       15.39129257, 15.1932645 , 15.14109749, 15.63899448, 15.4895503 ,\n",
       "       15.24754622, 16.11581386, 15.46666192, 15.76298529, 14.36001418,\n",
       "       14.99743493, 14.78162529, 15.53450841, 14.64776439, 15.04948348,\n",
       "       15.48028717, 15.04053884, 14.70988717, 15.70847269, 15.09715323,\n",
       "       14.70008194, 15.48274881, 15.85879601, 15.13387773, 15.00675365,\n",
       "       13.96449641, 14.99416292, 14.95013242, 15.32393218, 15.0785174 ,\n",
       "       15.1950808 , 15.52387063, 15.26514919, 15.12604619, 15.40414929,\n",
       "       15.44829802, 15.42238519, 15.35848321, 15.12680257, 15.82549235,\n",
       "       15.3941274 , 14.78876923, 15.46610545, 15.65749943, 15.29953346,\n",
       "       15.51518519, 15.20019818, 15.24521765, 14.76373708, 15.31366375,\n",
       "       15.54822737, 15.28784547, 15.56054535, 15.38138117, 15.27130367,\n",
       "       15.18586915, 15.11680497, 15.6116326 , 15.19696419])"
      ]
     },
     "execution_count": 200,
     "metadata": {},
     "output_type": "execute_result"
    }
   ],
   "source": [
    "his_sim['SPX Vol'].fillna(0).values"
   ]
  },
  {
   "cell_type": "code",
   "execution_count": 201,
   "id": "61a4a6f5",
   "metadata": {},
   "outputs": [],
   "source": [
    "# T=(portfolio.iloc[5][['Option']].values[0])\n",
    "# X=(portfolio.iloc[8][['Option']].values[0])\n",
    "# S=(his_sim['SPX Index'].fillna(0).values).astype(float)\n",
    "# sigma=(his_sim['SPX Vol'].fillna(0).values).astype(float)\n",
    "# r=j\n",
    "# # =(his_sim['1Y Zero'].fillna(0).values).astype(float)\n",
    "\n",
    "# black_scholes_call_option(S, X, T, r, sigma)"
   ]
  },
  {
   "cell_type": "code",
   "execution_count": 202,
   "id": "f0872a58",
   "metadata": {},
   "outputs": [
    {
     "data": {
      "text/html": [
       "<div>\n",
       "<style scoped>\n",
       "    .dataframe tbody tr th:only-of-type {\n",
       "        vertical-align: middle;\n",
       "    }\n",
       "\n",
       "    .dataframe tbody tr th {\n",
       "        vertical-align: top;\n",
       "    }\n",
       "\n",
       "    .dataframe thead th {\n",
       "        text-align: right;\n",
       "    }\n",
       "</style>\n",
       "<table border=\"1\" class=\"dataframe\">\n",
       "  <thead>\n",
       "    <tr style=\"text-align: right;\">\n",
       "      <th></th>\n",
       "      <th>SPX Index</th>\n",
       "      <th>1Y Zero</th>\n",
       "      <th>5Y Yield</th>\n",
       "      <th>SPX Vol</th>\n",
       "    </tr>\n",
       "  </thead>\n",
       "  <tbody>\n",
       "    <tr>\n",
       "      <th>1</th>\n",
       "      <td>NaN</td>\n",
       "      <td>NaN</td>\n",
       "      <td>NaN</td>\n",
       "      <td>NaN</td>\n",
       "    </tr>\n",
       "    <tr>\n",
       "      <th>2</th>\n",
       "      <td>1841.07</td>\n",
       "      <td>0.3083</td>\n",
       "      <td>1.7029</td>\n",
       "      <td>15.1324</td>\n",
       "    </tr>\n",
       "    <tr>\n",
       "      <th>3</th>\n",
       "      <td>1848.691307</td>\n",
       "      <td>0.313118</td>\n",
       "      <td>1.773102</td>\n",
       "      <td>15.024913</td>\n",
       "    </tr>\n",
       "    <tr>\n",
       "      <th>4</th>\n",
       "      <td>1848.982343</td>\n",
       "      <td>0.323266</td>\n",
       "      <td>1.749433</td>\n",
       "      <td>15.316116</td>\n",
       "    </tr>\n",
       "    <tr>\n",
       "      <th>5</th>\n",
       "      <td>1839.630056</td>\n",
       "      <td>0.313651</td>\n",
       "      <td>1.731208</td>\n",
       "      <td>15.320383</td>\n",
       "    </tr>\n",
       "    <tr>\n",
       "      <th>...</th>\n",
       "      <td>...</td>\n",
       "      <td>...</td>\n",
       "      <td>...</td>\n",
       "      <td>...</td>\n",
       "    </tr>\n",
       "    <tr>\n",
       "      <th>750</th>\n",
       "      <td>1850.907454</td>\n",
       "      <td>0.319184</td>\n",
       "      <td>1.78324</td>\n",
       "      <td>15.271304</td>\n",
       "    </tr>\n",
       "    <tr>\n",
       "      <th>751</th>\n",
       "      <td>1851.776159</td>\n",
       "      <td>0.313794</td>\n",
       "      <td>1.835206</td>\n",
       "      <td>15.185869</td>\n",
       "    </tr>\n",
       "    <tr>\n",
       "      <th>752</th>\n",
       "      <td>1852.292218</td>\n",
       "      <td>0.307207</td>\n",
       "      <td>1.802728</td>\n",
       "      <td>15.116805</td>\n",
       "    </tr>\n",
       "    <tr>\n",
       "      <th>753</th>\n",
       "      <td>1839.151213</td>\n",
       "      <td>0.307793</td>\n",
       "      <td>1.633294</td>\n",
       "      <td>15.611633</td>\n",
       "    </tr>\n",
       "    <tr>\n",
       "      <th>754</th>\n",
       "      <td>1850.790138</td>\n",
       "      <td>0.325772</td>\n",
       "      <td>1.738236</td>\n",
       "      <td>15.196964</td>\n",
       "    </tr>\n",
       "  </tbody>\n",
       "</table>\n",
       "<p>754 rows × 4 columns</p>\n",
       "</div>"
      ],
      "text/plain": [
       "       SPX Index   1Y Zero  5Y Yield    SPX Vol\n",
       "1            NaN       NaN       NaN        NaN\n",
       "2        1841.07    0.3083    1.7029    15.1324\n",
       "3    1848.691307  0.313118  1.773102  15.024913\n",
       "4    1848.982343  0.323266  1.749433  15.316116\n",
       "5    1839.630056  0.313651  1.731208  15.320383\n",
       "..           ...       ...       ...        ...\n",
       "750  1850.907454  0.319184   1.78324  15.271304\n",
       "751  1851.776159  0.313794  1.835206  15.185869\n",
       "752  1852.292218  0.307207  1.802728  15.116805\n",
       "753  1839.151213  0.307793  1.633294  15.611633\n",
       "754  1850.790138  0.325772  1.738236  15.196964\n",
       "\n",
       "[754 rows x 4 columns]"
      ]
     },
     "execution_count": 202,
     "metadata": {},
     "output_type": "execute_result"
    }
   ],
   "source": [
    "his_sim"
   ]
  },
  {
   "cell_type": "code",
   "execution_count": 203,
   "id": "e1adc62f",
   "metadata": {},
   "outputs": [],
   "source": [
    "# r=(his_sim['1Y Zero'].fillna(0).values)\n",
    "# # .astype(float)\n",
    "# vector = np.vectorize(np.float_)\n",
    "# # y = np.array([2, 4, 6, 8])\n",
    "# j = vector(r)\n",
    "# j"
   ]
  },
  {
   "cell_type": "code",
   "execution_count": null,
   "id": "fe4b7179",
   "metadata": {},
   "outputs": [],
   "source": []
  },
  {
   "cell_type": "code",
   "execution_count": 204,
   "id": "875e990d",
   "metadata": {},
   "outputs": [],
   "source": [
    "# bond_price(settlement_date, maturity_date, redemption_value, coupon_frequency, day_count_basis, ytm=(his_sim.iloc[:500]['5Y Yield'][0].fillna(0)/100).values)"
   ]
  },
  {
   "cell_type": "code",
   "execution_count": 205,
   "id": "b4527e30",
   "metadata": {},
   "outputs": [],
   "source": [
    "# his_sim.iloc[:500]['5Y Yield'].fillna(0)/100"
   ]
  },
  {
   "cell_type": "code",
   "execution_count": 206,
   "id": "a63c727b",
   "metadata": {},
   "outputs": [],
   "source": [
    "# face_value=100\n",
    "# coupon_rate=portfolio.iloc[6][['Bond']].values[0]\n",
    "# maturity_date=portfolio.iloc[5][['Bond']].values[0]\n",
    "# settlement_date=portfolio.iloc[4][['Bond']].values[0]\n",
    "# day_count_convention=30\n",
    "# accrued_interest_type=30/360\n",
    "# ytm=his_sim.iloc[:500]['5Y Yield'].fillna(0).values[0]/100"
   ]
  },
  {
   "cell_type": "code",
   "execution_count": 207,
   "id": "7e95f4a0",
   "metadata": {},
   "outputs": [],
   "source": [
    "# ytm=his_sim.iloc[:500]['5Y Yield'].fillna(0).values[0]/100"
   ]
  },
  {
   "cell_type": "code",
   "execution_count": null,
   "id": "0e835ae3",
   "metadata": {},
   "outputs": [],
   "source": []
  },
  {
   "cell_type": "code",
   "execution_count": 208,
   "id": "e3395b8a",
   "metadata": {},
   "outputs": [],
   "source": [
    "# (his_sim['SPX Index'].values*portfolio.iloc[[4,14]][['Equity']].values[1]/portfolio.iloc[[4,14]][['Equity']].values[0])-portfolio.iloc[[4,14]][['Equity']].values[1]\n",
    "\n",
    "# black_scholes_call_option(S, X, T, r, sigma)*notional/spot - present_value"
   ]
  },
  {
   "cell_type": "code",
   "execution_count": 209,
   "id": "0277dc88",
   "metadata": {},
   "outputs": [],
   "source": [
    "# ##bond valuation\n",
    "# face_value=100\n",
    "# coupon_rate=portfolio.iloc[6][['Bond']].values[0]\n",
    "# yield_to_maturity=portfolio.iloc[7][['Bond']].values[0]\n",
    "# maturity_date=portfolio.iloc[5][['Bond']].values[0]\n",
    "# settlement_date=portfolio.iloc[4][['Bond']].values[0]\n",
    "# day_count_convention=30\n",
    "# accrued_interest_type=30/360\n",
    "\n",
    "# bond_price(face_value, coupon_rate, yield_to_maturity, maturity_date, settlement_date, day_count_convention, accrued_interest_type)\n",
    "\n",
    "\n",
    "# import numpy as np\n",
    "# import datetime\n",
    "\n",
    "# def bond_price(settlement_date, maturity_date, coupon_rate, ytm, redemption_value, coupon_frequency, day_count_basis):\n",
    "#     # Calculate the time to maturity in years\n",
    "#     time_to_maturity = (maturity_date - settlement_date).days / day_count_basis\n",
    "\n",
    "#     # Calculate the number of coupon payments\n",
    "#     num_coupon_payments = int(time_to_maturity * coupon_frequency)\n",
    "\n",
    "#     # Calculate the coupon payment amount\n",
    "#     coupon_payment = (coupon_rate * redemption_value) / coupon_frequency\n",
    "\n",
    "#     # Generate an array of cash flows (coupon payments and redemption)\n",
    "#     cash_flows = np.full(num_coupon_payments, coupon_payment)\n",
    "#     cash_flows[-1] += redemption_value  # Add the redemption value at maturity\n",
    "\n",
    "#     # Calculate the time periods for each cash flow\n",
    "#     cash_flow_periods = np.arange(1, num_coupon_payments + 1) / coupon_frequency\n",
    "\n",
    "#     # Calculate the present value of cash flows using YTM and day count basis\n",
    "#     present_value = np.sum(cash_flows / (1 + ytm / coupon_frequency) ** (cash_flow_periods * day_count_basis))\n",
    "\n",
    "#     return present_value\n",
    "\n",
    "# # Example usage:\n",
    "# settlement_date = datetime.date(2023, 1, 15)\n",
    "# maturity_date = datetime.date(2030, 1, 15)\n",
    "# coupon_rate = 0.05\n",
    "# ytm = 0.06\n",
    "# redemption_value = 1000\n",
    "# coupon_frequency = 2  # Semi-annual coupon payments\n",
    "# day_count_basis = 365  # Actual/365 day count convention\n",
    "\n",
    "# bond_price_value = bond_price(settlement_date, maturity_date, coupon_rate, ytm, redemption_value, coupon_frequency, day_count_basis)\n",
    "# print(\"The bond price is:\", bond_price_value)\n"
   ]
  },
  {
   "cell_type": "code",
   "execution_count": null,
   "id": "51c8694e",
   "metadata": {},
   "outputs": [],
   "source": []
  },
  {
   "cell_type": "code",
   "execution_count": null,
   "id": "e3ace6f8",
   "metadata": {},
   "outputs": [],
   "source": []
  },
  {
   "cell_type": "code",
   "execution_count": null,
   "id": "0cb7133e",
   "metadata": {},
   "outputs": [],
   "source": []
  },
  {
   "cell_type": "code",
   "execution_count": 210,
   "id": "ac750cbf",
   "metadata": {},
   "outputs": [
    {
     "data": {
      "text/plain": [
       "Equity         0.0\n",
       "Option        -0.0\n",
       "Bond      0.000005\n",
       "dtype: object"
      ]
     },
     "execution_count": 210,
     "metadata": {},
     "output_type": "execute_result"
    }
   ],
   "source": [
    "correl_asset"
   ]
  },
  {
   "cell_type": "code",
   "execution_count": 211,
   "id": "d46e68a5",
   "metadata": {},
   "outputs": [],
   "source": [
    "# ##option valuation\n",
    "# import math\n",
    "# from scipy.stats import norm\n",
    "\n",
    "# def black_scholes_call_option(S, X, T, r, sigma):\n",
    "#     d1 = (math.log(S / X) + (r + (sigma**2) / 2) * T) / (sigma * math.sqrt(T))\n",
    "#     d2 = d1 - sigma * math.sqrt(T)\n",
    "#     option_price = S * norm.cdf(d1) - X * math.exp(-r * T) * norm.cdf(d2)\n",
    "#     return option_price\n",
    "# call_option_price = black_scholes_call_option(S, X, T, r, sigma)\n",
    "# print(\"The price of the European call option is:\", call_option_price)\n"
   ]
  },
  {
   "cell_type": "markdown",
   "id": "eb8e5415",
   "metadata": {},
   "source": [
    "Monte Carlo Simulation\n",
    "\n"
   ]
  },
  {
   "cell_type": "code",
   "execution_count": 212,
   "id": "cfffad61",
   "metadata": {},
   "outputs": [
    {
     "data": {
      "text/plain": [
       "array([1820.68352954, 1812.37293967, 1801.97212803, 1848.71338172])"
      ]
     },
     "execution_count": 212,
     "metadata": {},
     "output_type": "execute_result"
    }
   ],
   "source": [
    "(last_traded_price['SPX Index'].values[0])*np.exp(0.5*volatility.T['SPX Index'].values[0]**2+np.random.multivariate_normal([0,0,0,0],np.linalg.cholesky(correl_matirx))*(volatility.T['SPX Index'].values[0]),)"
   ]
  },
  {
   "cell_type": "code",
   "execution_count": 213,
   "id": "3fe85fc3",
   "metadata": {},
   "outputs": [
    {
     "data": {
      "text/plain": [
       "-8.073648879487642"
      ]
     },
     "execution_count": 213,
     "metadata": {},
     "output_type": "execute_result"
    }
   ],
   "source": [
    "##risk factor simulated using multivarite gaussian\n",
    "spx_index_simulated=(last_traded_price['SPX Index'].values[0])*np.exp(-0.5*volatility.T['SPX Index'].values[0]**2+np.random.multivariate_normal([0,0,0,0],np.linalg.cholesky(correl_matirx),100000)*volatility.T['SPX Index'].values[0])\n",
    "mc_equity=spx_index_simulated[0]*(portfolio.iloc[[4,14]][['Equity']].values[1]/portfolio.iloc[[4,14]][['Equity']].values[0])-portfolio.iloc[[4,14]][['Equity']].values[1]\n",
    "equity_simulated=pd.DataFrame(mc_equity,columns=['equity_simulated'])\n",
    "np.percentile(equity_simulated,100-97.5)"
   ]
  },
  {
   "cell_type": "code",
   "execution_count": 214,
   "id": "c294fa1e",
   "metadata": {},
   "outputs": [
    {
     "data": {
      "text/plain": [
       "array([[1835.08686304, 1836.5403908 , 1819.6166391 , 1877.14188411],\n",
       "       [1884.79728968, 1874.33658077, 1867.51716427, 1851.06367811],\n",
       "       [1822.30607115, 1857.48024162, 1853.58850678, 1861.03021896],\n",
       "       ...,\n",
       "       [1816.85358324, 1836.6760316 , 1863.80704463, 1840.78763693],\n",
       "       [1873.95429919, 1859.95983129, 1831.91392634, 1838.1766446 ],\n",
       "       [1845.00685932, 1855.21742637, 1856.20168664, 1851.1796845 ]])"
      ]
     },
     "execution_count": 214,
     "metadata": {},
     "output_type": "execute_result"
    }
   ],
   "source": [
    "spx_index_simulated"
   ]
  },
  {
   "cell_type": "code",
   "execution_count": 215,
   "id": "8e105844",
   "metadata": {},
   "outputs": [
    {
     "data": {
      "text/plain": [
       "-8.073648879487642"
      ]
     },
     "execution_count": 215,
     "metadata": {},
     "output_type": "execute_result"
    }
   ],
   "source": [
    "mc_var=np.percentile(equity_simulated,100-97.5)\n",
    "mc_var"
   ]
  },
  {
   "cell_type": "code",
   "execution_count": null,
   "id": "9f10de60",
   "metadata": {},
   "outputs": [],
   "source": []
  },
  {
   "cell_type": "markdown",
   "id": "d65f4ca6",
   "metadata": {},
   "source": [
    "Volatility"
   ]
  },
  {
   "cell_type": "code",
   "execution_count": 216,
   "id": "5f1e5f23",
   "metadata": {},
   "outputs": [],
   "source": [
    "import arch"
   ]
  },
  {
   "cell_type": "code",
   "execution_count": null,
   "id": "3ec6b3d7",
   "metadata": {},
   "outputs": [],
   "source": []
  },
  {
   "cell_type": "code",
   "execution_count": 217,
   "id": "0d354dc4",
   "metadata": {},
   "outputs": [
    {
     "name": "stdout",
     "output_type": "stream",
     "text": [
      "Iteration:     10,   Func. Count:    123,   Neg. LLF: -2489.4065604657594\n",
      "Optimization terminated successfully    (Exit mode 0)\n",
      "            Current function value: -2489.4065610783846\n",
      "            Iterations: 14\n",
      "            Function evaluations: 123\n",
      "            Gradient evaluations: 10\n",
      "                     Constant Mean - GARCH Model Results                      \n",
      "==============================================================================\n",
      "Dep. Variable:              SPX Index   R-squared:                       0.000\n",
      "Mean Model:             Constant Mean   Adj. R-squared:                  0.000\n",
      "Vol Model:                      GARCH   Log-Likelihood:                2489.41\n",
      "Distribution:                  Normal   AIC:                          -4970.81\n",
      "Method:            Maximum Likelihood   BIC:                          -4952.31\n",
      "                                        No. Observations:                  754\n",
      "Date:                Tue, Oct 03 2023   Df Residuals:                      753\n",
      "Time:                        07:27:26   Df Model:                            1\n",
      "                                   Mean Model                                  \n",
      "===============================================================================\n",
      "                  coef    std err          t      P>|t|        95.0% Conf. Int.\n",
      "-------------------------------------------------------------------------------\n",
      "mu         -8.8585e-04  3.547e-05    -24.975 1.137e-137 [-9.554e-04,-8.163e-04]\n",
      "                              Volatility Model                              \n",
      "============================================================================\n",
      "                 coef    std err          t      P>|t|      95.0% Conf. Int.\n",
      "----------------------------------------------------------------------------\n",
      "omega      2.1923e-06  3.352e-12  6.540e+05      0.000 [2.192e-06,2.192e-06]\n",
      "alpha[1]       0.1000  3.028e-02      3.303  9.564e-04   [4.066e-02,  0.159]\n",
      "beta[1]        0.8800  2.514e-02     35.005 1.862e-268     [  0.831,  0.929]\n",
      "============================================================================\n",
      "\n",
      "Covariance estimator: robust\n"
     ]
    }
   ],
   "source": [
    "\n",
    "from arch import arch_model\n",
    "\n",
    "am = arch_model(log_data.fillna(0)['SPX Index'])\n",
    "res = am.fit(update_freq=10)\n",
    "print(res.summary())"
   ]
  },
  {
   "cell_type": "code",
   "execution_count": 219,
   "id": "58f0fe5e",
   "metadata": {},
   "outputs": [
    {
     "data": {
      "image/png": "[encoded data removed]",
      "text/plain": [
       "<Figure size 432x288 with 1 Axes>"
      ]
     },
     "execution_count": 219,
     "metadata": {},
     "output_type": "execute_result"
    },
    {
     "data": {
      "image/png": "[encoded data removed]",
      "text/plain": [
       "<Figure size 432x288 with 1 Axes>"
      ]
     },
     "metadata": {
      "needs_background": "light"
     },
     "output_type": "display_data"
    }
   ],
   "source": [
    "res.hedgehog_plot(simulations= 10000)"
   ]
  },
  {
   "cell_type": "code",
   "execution_count": 246,
   "id": "6a744b86",
   "metadata": {},
   "outputs": [
    {
     "data": {
      "text/plain": [
       "<AxesSubplot:xlabel='[mu, omega, alpha[1], beta[1]]', ylabel='[mu, omega, alpha[1], beta[1]]'>"
      ]
     },
     "execution_count": 246,
     "metadata": {},
     "output_type": "execute_result"
    },
    {
     "data": {
      "image/png": "[encoded data removed]",
      "text/plain": [
       "<Figure size 432x288 with 1 Axes>"
      ]
     },
     "metadata": {
      "needs_background": "light"
     },
     "output_type": "display_data"
    }
   ],
   "source": [
    "res.param_cov.plot.scatter(x=res.param_cov.index,y=res.param_cov.index)"
   ]
  },
  {
   "cell_type": "code",
   "execution_count": 251,
   "id": "a319ae89",
   "metadata": {},
   "outputs": [
    {
     "data": {
      "text/plain": [
       "<AxesSubplot:xlabel='Date'>"
      ]
     },
     "execution_count": 251,
     "metadata": {},
     "output_type": "execute_result"
    },
    {
     "data": {
      "image/png": "[encoded data removed]",
      "text/plain": [
       "<Figure size 432x288 with 1 Axes>"
      ]
     },
     "metadata": {
      "needs_background": "light"
     },
     "output_type": "display_data"
    }
   ],
   "source": [
    "res.resid.plot()"
   ]
  },
  {
   "cell_type": "code",
   "execution_count": null,
   "id": "ffba68e5",
   "metadata": {},
   "outputs": [],
   "source": []
  },
  {
   "cell_type": "markdown",
   "id": "1e448ee3",
   "metadata": {},
   "source": [
    "COPULA VAR"
   ]
  },
  {
   "cell_type": "code",
   "execution_count": null,
   "id": "9dc915f0",
   "metadata": {},
   "outputs": [],
   "source": []
  },
  {
   "cell_type": "markdown",
   "id": "511b490e",
   "metadata": {},
   "source": [
    "EVT VAR"
   ]
  },
  {
   "cell_type": "code",
   "execution_count": null,
   "id": "84a80c71",
   "metadata": {},
   "outputs": [],
   "source": []
  },
  {
   "cell_type": "code",
   "execution_count": null,
   "id": "2a5160a5",
   "metadata": {},
   "outputs": [],
   "source": []
  },
  {
   "cell_type": "code",
   "execution_count": null,
   "id": "6365bad4",
   "metadata": {},
   "outputs": [],
   "source": []
  }
 ],
 "metadata": {
  "kernelspec": {
   "display_name": "Python 3 (ipykernel)",
   "language": "python",
   "name": "python3"
  },
  "language_info": {
   "codemirror_mode": {
    "name": "ipython",
    "version": 3
   },
   "file_extension": ".py",
   "mimetype": "text/x-python",
   "name": "python",
   "nbconvert_exporter": "python",
   "pygments_lexer": "ipython3",
   "version": "3.8.8"
  }
 },
 "nbformat": 4,
 "nbformat_minor": 5
}
